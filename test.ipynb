{
 "cells": [
  {
   "cell_type": "markdown",
   "id": "0105ae10",
   "metadata": {},
   "source": [
    "## Ниже представлены ссылки на более удачные попытки\n",
    "#### <a href='#dense'> 1 попытка стандартная Dense сеть</a>\n",
    "#### <a href='#emb_Conv1D'>2 попытка Embedding + Conv1D</a>\n",
    "#### <a href='#emb_Conv1D_window'>3 попытка Embedding + Conv1D <br> Обучение по средствам плавающего окна</a>\n",
    "---"
   ]
  },
  {
   "cell_type": "markdown",
   "id": "6e02f9b6",
   "metadata": {},
   "source": [
    "\n",
    "# 1 попытка стандартная Dense сеть\n",
    "<a id=\"dense\"></a>"
   ]
  },
  {
   "cell_type": "code",
   "execution_count": 4,
   "id": "cfa2bd64",
   "metadata": {},
   "outputs": [],
   "source": [
    "# Базовые библиоткеи\n",
    "import os\n",
    "import numpy as np\n",
    "import pandas as pd\n",
    "import matplotlib.pyplot as plt\n",
    "%matplotlib inline\n",
    "\n",
    "#Для работы с сетями\n",
    "from tensorflow.keras import utils\n",
    "from tensorflow.keras.optimizers import Adam\n",
    "from tensorflow.keras.models import Sequential\n",
    "# Обычные слои\n",
    "from tensorflow.keras.layers import Dense, Dropout, BatchNormalization, Embedding, Flatten\n",
    "\n",
    "# Инструменты обработки текста\n",
    "from tensorflow.keras.preprocessing.text import Tokenizer\n",
    "from sklearn.model_selection import train_test_split"
   ]
  },
  {
   "cell_type": "markdown",
   "id": "9dec085a",
   "metadata": {},
   "source": [
    "### Загрузка данных"
   ]
  },
  {
   "cell_type": "markdown",
   "id": "6347390f",
   "metadata": {},
   "source": [
    "Перед началом работы, необходимо импортировать данные, сделать это можно при помощи стандартных os библиотек, для чтения данных и pandas для хранения и изменения"
   ]
  },
  {
   "cell_type": "code",
   "execution_count": 2,
   "id": "f49ffea5",
   "metadata": {},
   "outputs": [
    {
     "data": {
      "text/plain": [
       "['Аппендицит',\n",
       " 'Гастрит',\n",
       " 'Гепатит',\n",
       " 'Дуоденит',\n",
       " 'Колит',\n",
       " 'Панкреатит',\n",
       " 'Холицестит',\n",
       " 'Эзофагит',\n",
       " 'Энтерит',\n",
       " 'Язва']"
      ]
     },
     "execution_count": 2,
     "metadata": {},
     "output_type": "execute_result"
    }
   ],
   "source": [
    "# Путь к базе\n",
    "path = 'база болезней/'\n",
    "# При помощи простого выражения (list comprehension) можно создать список из всех болезней\n",
    "diseases_names = [x.split('.')[0] for x in os.listdir(path)]\n",
    "diseases_names"
   ]
  },
  {
   "cell_type": "code",
   "execution_count": 3,
   "id": "2621c354",
   "metadata": {},
   "outputs": [],
   "source": [
    "# Создание набора данных (DataFrmae)\n",
    "df = pd.DataFrame(columns=['disease_name', 'disease_description'])\n",
    "# При помощи цикла проходимся по списку\n",
    "for disease in diseases_names:\n",
    "    # Открываем каждый файл для чтения\n",
    "    with open(path+disease+'.txt', mode='r', encoding='utf-8-sig') as f:\n",
    "        current_disease = f.read()\n",
    "        # Добавление названия болещни и ее описания в набор данных\n",
    "        df = pd.concat([df, pd.DataFrame({'disease_name':[disease], 'disease_description':[current_disease]})], ignore_index=True)"
   ]
  },
  {
   "cell_type": "code",
   "execution_count": 4,
   "id": "0f9608e9",
   "metadata": {},
   "outputs": [
    {
     "data": {
      "text/html": [
       "<div>\n",
       "<style scoped>\n",
       "    .dataframe tbody tr th:only-of-type {\n",
       "        vertical-align: middle;\n",
       "    }\n",
       "\n",
       "    .dataframe tbody tr th {\n",
       "        vertical-align: top;\n",
       "    }\n",
       "\n",
       "    .dataframe thead th {\n",
       "        text-align: right;\n",
       "    }\n",
       "</style>\n",
       "<table border=\"1\" class=\"dataframe\">\n",
       "  <thead>\n",
       "    <tr style=\"text-align: right;\">\n",
       "      <th></th>\n",
       "      <th>disease_name</th>\n",
       "      <th>disease_description</th>\n",
       "    </tr>\n",
       "  </thead>\n",
       "  <tbody>\n",
       "    <tr>\n",
       "      <th>0</th>\n",
       "      <td>Аппендицит</td>\n",
       "      <td>Резкая боль в животе Повышение температуры Нап...</td>\n",
       "    </tr>\n",
       "    <tr>\n",
       "      <th>1</th>\n",
       "      <td>Гастрит</td>\n",
       "      <td>ГАСТРИТ СИМПТОМЫ  диспепсии (тяжесть и чувство...</td>\n",
       "    </tr>\n",
       "    <tr>\n",
       "      <th>2</th>\n",
       "      <td>Гепатит</td>\n",
       "      <td>Желтуха начало гепатита напоминает грипп: повы...</td>\n",
       "    </tr>\n",
       "    <tr>\n",
       "      <th>3</th>\n",
       "      <td>Дуоденит</td>\n",
       "      <td>боль в эпигастральной области, тошнота, рвота,...</td>\n",
       "    </tr>\n",
       "    <tr>\n",
       "      <th>4</th>\n",
       "      <td>Колит</td>\n",
       "      <td>постоянные позывы на дефекацию, урчание, вздут...</td>\n",
       "    </tr>\n",
       "    <tr>\n",
       "      <th>5</th>\n",
       "      <td>Панкреатит</td>\n",
       "      <td>Боль при панкреатите обычно очень интенсивн...</td>\n",
       "    </tr>\n",
       "    <tr>\n",
       "      <th>6</th>\n",
       "      <td>Холицестит</td>\n",
       "      <td>тупая, ноющая боль в области правого подреберь...</td>\n",
       "    </tr>\n",
       "    <tr>\n",
       "      <th>7</th>\n",
       "      <td>Эзофагит</td>\n",
       "      <td>затруднения и болезненные ощущения при глотани...</td>\n",
       "    </tr>\n",
       "    <tr>\n",
       "      <th>8</th>\n",
       "      <td>Энтерит</td>\n",
       "      <td>внезапныые боли (преимущественно в середине жи...</td>\n",
       "    </tr>\n",
       "    <tr>\n",
       "      <th>9</th>\n",
       "      <td>Язва</td>\n",
       "      <td>боль, часто локализованная в эпигастрии и умен...</td>\n",
       "    </tr>\n",
       "  </tbody>\n",
       "</table>\n",
       "</div>"
      ],
      "text/plain": [
       "  disease_name                                disease_description\n",
       "0   Аппендицит  Резкая боль в животе Повышение температуры Нап...\n",
       "1      Гастрит  ГАСТРИТ СИМПТОМЫ  диспепсии (тяжесть и чувство...\n",
       "2      Гепатит  Желтуха начало гепатита напоминает грипп: повы...\n",
       "3     Дуоденит  боль в эпигастральной области, тошнота, рвота,...\n",
       "4        Колит  постоянные позывы на дефекацию, урчание, вздут...\n",
       "5   Панкреатит     Боль при панкреатите обычно очень интенсивн...\n",
       "6   Холицестит  тупая, ноющая боль в области правого подреберь...\n",
       "7     Эзофагит  затруднения и болезненные ощущения при глотани...\n",
       "8      Энтерит  внезапныые боли (преимущественно в середине жи...\n",
       "9         Язва  боль, часто локализованная в эпигастрии и умен..."
      ]
     },
     "execution_count": 4,
     "metadata": {},
     "output_type": "execute_result"
    }
   ],
   "source": [
    "# Удаление лишних символов переноса строки\n",
    "df['disease_description'] = df['disease_description'].apply(lambda x: x.replace('\\n', ' '))\n",
    "df"
   ]
  },
  {
   "cell_type": "code",
   "execution_count": 5,
   "id": "c27f480c",
   "metadata": {},
   "outputs": [],
   "source": [
    "all_diseases_description = ' '.join(df['disease_description'].values)"
   ]
  },
  {
   "cell_type": "markdown",
   "id": "ebed1c33",
   "metadata": {},
   "source": [
    "### Обучение токенизатора"
   ]
  },
  {
   "cell_type": "code",
   "execution_count": 6,
   "id": "ec68ce9a",
   "metadata": {},
   "outputs": [
    {
     "name": "stdout",
     "output_type": "stream",
     "text": [
      "[('unknown', 1), ('в', 2), ('и', 3), ('боль', 4), ('тошнота', 5), ('или', 6), ('рвота', 7), ('боли', 8), ('живота', 9), ('при', 10), ('животе', 11), ('после', 12), ('области', 13), ('отрыжка', 14), ('с', 15), ('слабость', 16), ('аппетита', 17), ('во', 18), ('тела', 19), ('изжога', 20), ('вздутие', 21), ('может', 22), ('снижение', 23), ('пищи', 24), ('повышение', 25), ('температуры', 26), ('рту', 27), ('еды', 28), ('диарея', 29), ('на', 30), ('иногда', 31), ('до', 32), ('к', 33), ('метеоризм', 34), ('температура', 35), ('подреберье', 36), ('верхней', 37), ('части', 38), ('не', 39), ('правом', 40), ('стул', 41), ('потеря', 42), ('чувство', 43), ('общая', 44), ('эпигастральной', 45), ('желудка', 46), ('урчание', 47), ('–', 48), ('ощущение', 49), ('отсутствие', 50), ('ощущения', 51), ('понос', 52), ('нарушение', 53), ('позывы', 54), ('тяжести', 55), ('которая', 56), ('запор', 57), ('время', 58), ('приема', 59), ('кожи', 60), ('могут', 61), ('появление', 62), ('повышенная', 63), ('эпигастрии', 64), ('стула', 65), ('тяжесть', 66), ('неприятный', 67), ('за', 68), ('крови', 69), ('—', 70), ('повышенное', 71), ('часто', 72), ('сухость', 73), ('особенно', 74), ('массы', 75), ('лихорадка', 76), ('дефекации', 77), ('быть', 78), ('слизи', 79), ('запоры', 80), ('по', 81), ('утомляемость', 82), ('характер', 83), ('от', 84), ('постоянная', 85), ('болезненность', 86), ('нарушения', 87), ('кислым', 88), ('под', 89), ('пупка', 90), ('обычно', 91), ('как', 92), ('веса', 93), ('головокружение', 94), ('со', 95), ('у', 96), ('головная', 97), ('примесью', 98), ('резкая', 99), ('острая', 100)]\n",
      "Размер словаря 1999\n"
     ]
    }
   ],
   "source": [
    "max_words_count = 1800\n",
    "tokenizer = Tokenizer(num_words=max_words_count,\n",
    "    filters='!\"#$%&()*+,-./:;<=>?@[\\\\]^_`{|}~\\t\\n',\n",
    "    lower=True,\n",
    "    split=' ',\n",
    "    char_level=False,\n",
    "    oov_token='unknown'\n",
    ")\n",
    "\n",
    "tokenizer.fit_on_texts([all_diseases_description])\n",
    "items = list(tokenizer.word_index.items())\n",
    "print(items[:100])\n",
    "print(\"Размер словаря\", len(items)) # Длина словаря"
   ]
  },
  {
   "cell_type": "code",
   "execution_count": 7,
   "id": "a5caa307",
   "metadata": {},
   "outputs": [
    {
     "data": {
      "text/plain": [
       "878"
      ]
     },
     "execution_count": 7,
     "metadata": {},
     "output_type": "execute_result"
    }
   ],
   "source": [
    "tokenizer.word_index['язв']"
   ]
  },
  {
   "cell_type": "markdown",
   "id": "947d9f0c",
   "metadata": {},
   "source": [
    "#### Преобразование данных"
   ]
  },
  {
   "cell_type": "code",
   "execution_count": 8,
   "id": "af4d06b9",
   "metadata": {},
   "outputs": [],
   "source": [
    "df['matrix_description'] = df['disease_description'].apply(lambda x: tokenizer.texts_to_matrix([x]))"
   ]
  },
  {
   "cell_type": "code",
   "execution_count": 9,
   "id": "122a7aab",
   "metadata": {},
   "outputs": [
    {
     "data": {
      "text/html": [
       "<div>\n",
       "<style scoped>\n",
       "    .dataframe tbody tr th:only-of-type {\n",
       "        vertical-align: middle;\n",
       "    }\n",
       "\n",
       "    .dataframe tbody tr th {\n",
       "        vertical-align: top;\n",
       "    }\n",
       "\n",
       "    .dataframe thead th {\n",
       "        text-align: right;\n",
       "    }\n",
       "</style>\n",
       "<table border=\"1\" class=\"dataframe\">\n",
       "  <thead>\n",
       "    <tr style=\"text-align: right;\">\n",
       "      <th></th>\n",
       "      <th>disease_name</th>\n",
       "      <th>disease_description</th>\n",
       "      <th>matrix_description</th>\n",
       "    </tr>\n",
       "  </thead>\n",
       "  <tbody>\n",
       "    <tr>\n",
       "      <th>0</th>\n",
       "      <td>Аппендицит</td>\n",
       "      <td>Резкая боль в животе Повышение температуры Нап...</td>\n",
       "      <td>[[0.0, 0.0, 1.0, 1.0, 1.0, 1.0, 1.0, 1.0, 1.0,...</td>\n",
       "    </tr>\n",
       "    <tr>\n",
       "      <th>1</th>\n",
       "      <td>Гастрит</td>\n",
       "      <td>ГАСТРИТ СИМПТОМЫ  диспепсии (тяжесть и чувство...</td>\n",
       "      <td>[[0.0, 0.0, 1.0, 1.0, 1.0, 1.0, 1.0, 1.0, 1.0,...</td>\n",
       "    </tr>\n",
       "    <tr>\n",
       "      <th>2</th>\n",
       "      <td>Гепатит</td>\n",
       "      <td>Желтуха начало гепатита напоминает грипп: повы...</td>\n",
       "      <td>[[0.0, 0.0, 1.0, 1.0, 1.0, 1.0, 1.0, 1.0, 1.0,...</td>\n",
       "    </tr>\n",
       "    <tr>\n",
       "      <th>3</th>\n",
       "      <td>Дуоденит</td>\n",
       "      <td>боль в эпигастральной области, тошнота, рвота,...</td>\n",
       "      <td>[[0.0, 0.0, 1.0, 1.0, 1.0, 1.0, 1.0, 1.0, 1.0,...</td>\n",
       "    </tr>\n",
       "    <tr>\n",
       "      <th>4</th>\n",
       "      <td>Колит</td>\n",
       "      <td>постоянные позывы на дефекацию, урчание, вздут...</td>\n",
       "      <td>[[0.0, 0.0, 1.0, 1.0, 1.0, 1.0, 1.0, 1.0, 1.0,...</td>\n",
       "    </tr>\n",
       "    <tr>\n",
       "      <th>5</th>\n",
       "      <td>Панкреатит</td>\n",
       "      <td>Боль при панкреатите обычно очень интенсивн...</td>\n",
       "      <td>[[0.0, 0.0, 1.0, 1.0, 1.0, 1.0, 1.0, 1.0, 1.0,...</td>\n",
       "    </tr>\n",
       "    <tr>\n",
       "      <th>6</th>\n",
       "      <td>Холицестит</td>\n",
       "      <td>тупая, ноющая боль в области правого подреберь...</td>\n",
       "      <td>[[0.0, 0.0, 1.0, 1.0, 1.0, 1.0, 1.0, 1.0, 1.0,...</td>\n",
       "    </tr>\n",
       "    <tr>\n",
       "      <th>7</th>\n",
       "      <td>Эзофагит</td>\n",
       "      <td>затруднения и болезненные ощущения при глотани...</td>\n",
       "      <td>[[0.0, 1.0, 1.0, 1.0, 1.0, 1.0, 1.0, 1.0, 1.0,...</td>\n",
       "    </tr>\n",
       "    <tr>\n",
       "      <th>8</th>\n",
       "      <td>Энтерит</td>\n",
       "      <td>внезапныые боли (преимущественно в середине жи...</td>\n",
       "      <td>[[0.0, 1.0, 1.0, 1.0, 1.0, 1.0, 1.0, 1.0, 1.0,...</td>\n",
       "    </tr>\n",
       "    <tr>\n",
       "      <th>9</th>\n",
       "      <td>Язва</td>\n",
       "      <td>боль, часто локализованная в эпигастрии и умен...</td>\n",
       "      <td>[[0.0, 1.0, 1.0, 1.0, 1.0, 1.0, 1.0, 1.0, 1.0,...</td>\n",
       "    </tr>\n",
       "  </tbody>\n",
       "</table>\n",
       "</div>"
      ],
      "text/plain": [
       "  disease_name                                disease_description  \\\n",
       "0   Аппендицит  Резкая боль в животе Повышение температуры Нап...   \n",
       "1      Гастрит  ГАСТРИТ СИМПТОМЫ  диспепсии (тяжесть и чувство...   \n",
       "2      Гепатит  Желтуха начало гепатита напоминает грипп: повы...   \n",
       "3     Дуоденит  боль в эпигастральной области, тошнота, рвота,...   \n",
       "4        Колит  постоянные позывы на дефекацию, урчание, вздут...   \n",
       "5   Панкреатит     Боль при панкреатите обычно очень интенсивн...   \n",
       "6   Холицестит  тупая, ноющая боль в области правого подреберь...   \n",
       "7     Эзофагит  затруднения и болезненные ощущения при глотани...   \n",
       "8      Энтерит  внезапныые боли (преимущественно в середине жи...   \n",
       "9         Язва  боль, часто локализованная в эпигастрии и умен...   \n",
       "\n",
       "                                  matrix_description  \n",
       "0  [[0.0, 0.0, 1.0, 1.0, 1.0, 1.0, 1.0, 1.0, 1.0,...  \n",
       "1  [[0.0, 0.0, 1.0, 1.0, 1.0, 1.0, 1.0, 1.0, 1.0,...  \n",
       "2  [[0.0, 0.0, 1.0, 1.0, 1.0, 1.0, 1.0, 1.0, 1.0,...  \n",
       "3  [[0.0, 0.0, 1.0, 1.0, 1.0, 1.0, 1.0, 1.0, 1.0,...  \n",
       "4  [[0.0, 0.0, 1.0, 1.0, 1.0, 1.0, 1.0, 1.0, 1.0,...  \n",
       "5  [[0.0, 0.0, 1.0, 1.0, 1.0, 1.0, 1.0, 1.0, 1.0,...  \n",
       "6  [[0.0, 0.0, 1.0, 1.0, 1.0, 1.0, 1.0, 1.0, 1.0,...  \n",
       "7  [[0.0, 1.0, 1.0, 1.0, 1.0, 1.0, 1.0, 1.0, 1.0,...  \n",
       "8  [[0.0, 1.0, 1.0, 1.0, 1.0, 1.0, 1.0, 1.0, 1.0,...  \n",
       "9  [[0.0, 1.0, 1.0, 1.0, 1.0, 1.0, 1.0, 1.0, 1.0,...  "
      ]
     },
     "execution_count": 9,
     "metadata": {},
     "output_type": "execute_result"
    }
   ],
   "source": [
    "df"
   ]
  },
  {
   "cell_type": "markdown",
   "id": "aa42d670",
   "metadata": {},
   "source": [
    "#### Проверка распределения"
   ]
  },
  {
   "cell_type": "markdown",
   "id": "5b90d0aa",
   "metadata": {},
   "source": [
    "Теперь, что бы убедится, что все коныертировалось верно, проверю матрицу"
   ]
  },
  {
   "cell_type": "code",
   "execution_count": 10,
   "id": "d7485e54",
   "metadata": {},
   "outputs": [],
   "source": [
    "def onehot_to_text(mat,tokenizer, cutoff):\n",
    "    mat = pd.DataFrame(mat)\n",
    "    mat.rename(columns=tokenizer.index_word, inplace=True)\n",
    "    output = mat.sum(axis=1)\n",
    "    for row in range(mat.shape[0]):\n",
    "        if output[row] == 0:\n",
    "            output[row] = []\n",
    "        else:\n",
    "            output[row] = mat.columns[mat.iloc[row,:] >= cutoff].tolist()\n",
    "    return(output)"
   ]
  },
  {
   "cell_type": "code",
   "execution_count": 11,
   "id": "9dccc3cb",
   "metadata": {},
   "outputs": [
    {
     "data": {
      "text/plain": [
       "True"
      ]
     },
     "execution_count": 11,
     "metadata": {},
     "output_type": "execute_result"
    }
   ],
   "source": [
    "'язв' in onehot_to_text(df['matrix_description'][9], tokenizer, 0.5)[0]"
   ]
  },
  {
   "cell_type": "markdown",
   "id": "5becac2c",
   "metadata": {},
   "source": [
    "#### Индрексация названия болезней"
   ]
  },
  {
   "cell_type": "code",
   "execution_count": 12,
   "id": "7c999065",
   "metadata": {},
   "outputs": [],
   "source": [
    "from sklearn import preprocessing\n",
    "le = preprocessing.LabelEncoder()\n",
    "df['disease_indexes'] = le.fit_transform(df['disease_name'].values)"
   ]
  },
  {
   "cell_type": "code",
   "execution_count": 13,
   "id": "44c15d0a",
   "metadata": {},
   "outputs": [
    {
     "data": {
      "text/html": [
       "<div>\n",
       "<style scoped>\n",
       "    .dataframe tbody tr th:only-of-type {\n",
       "        vertical-align: middle;\n",
       "    }\n",
       "\n",
       "    .dataframe tbody tr th {\n",
       "        vertical-align: top;\n",
       "    }\n",
       "\n",
       "    .dataframe thead th {\n",
       "        text-align: right;\n",
       "    }\n",
       "</style>\n",
       "<table border=\"1\" class=\"dataframe\">\n",
       "  <thead>\n",
       "    <tr style=\"text-align: right;\">\n",
       "      <th></th>\n",
       "      <th>disease_name</th>\n",
       "      <th>disease_description</th>\n",
       "      <th>matrix_description</th>\n",
       "      <th>disease_indexes</th>\n",
       "    </tr>\n",
       "  </thead>\n",
       "  <tbody>\n",
       "    <tr>\n",
       "      <th>0</th>\n",
       "      <td>Аппендицит</td>\n",
       "      <td>Резкая боль в животе Повышение температуры Нап...</td>\n",
       "      <td>[[0.0, 0.0, 1.0, 1.0, 1.0, 1.0, 1.0, 1.0, 1.0,...</td>\n",
       "      <td>0</td>\n",
       "    </tr>\n",
       "    <tr>\n",
       "      <th>1</th>\n",
       "      <td>Гастрит</td>\n",
       "      <td>ГАСТРИТ СИМПТОМЫ  диспепсии (тяжесть и чувство...</td>\n",
       "      <td>[[0.0, 0.0, 1.0, 1.0, 1.0, 1.0, 1.0, 1.0, 1.0,...</td>\n",
       "      <td>1</td>\n",
       "    </tr>\n",
       "    <tr>\n",
       "      <th>2</th>\n",
       "      <td>Гепатит</td>\n",
       "      <td>Желтуха начало гепатита напоминает грипп: повы...</td>\n",
       "      <td>[[0.0, 0.0, 1.0, 1.0, 1.0, 1.0, 1.0, 1.0, 1.0,...</td>\n",
       "      <td>2</td>\n",
       "    </tr>\n",
       "    <tr>\n",
       "      <th>3</th>\n",
       "      <td>Дуоденит</td>\n",
       "      <td>боль в эпигастральной области, тошнота, рвота,...</td>\n",
       "      <td>[[0.0, 0.0, 1.0, 1.0, 1.0, 1.0, 1.0, 1.0, 1.0,...</td>\n",
       "      <td>3</td>\n",
       "    </tr>\n",
       "    <tr>\n",
       "      <th>4</th>\n",
       "      <td>Колит</td>\n",
       "      <td>постоянные позывы на дефекацию, урчание, вздут...</td>\n",
       "      <td>[[0.0, 0.0, 1.0, 1.0, 1.0, 1.0, 1.0, 1.0, 1.0,...</td>\n",
       "      <td>4</td>\n",
       "    </tr>\n",
       "    <tr>\n",
       "      <th>5</th>\n",
       "      <td>Панкреатит</td>\n",
       "      <td>Боль при панкреатите обычно очень интенсивн...</td>\n",
       "      <td>[[0.0, 0.0, 1.0, 1.0, 1.0, 1.0, 1.0, 1.0, 1.0,...</td>\n",
       "      <td>5</td>\n",
       "    </tr>\n",
       "    <tr>\n",
       "      <th>6</th>\n",
       "      <td>Холицестит</td>\n",
       "      <td>тупая, ноющая боль в области правого подреберь...</td>\n",
       "      <td>[[0.0, 0.0, 1.0, 1.0, 1.0, 1.0, 1.0, 1.0, 1.0,...</td>\n",
       "      <td>6</td>\n",
       "    </tr>\n",
       "    <tr>\n",
       "      <th>7</th>\n",
       "      <td>Эзофагит</td>\n",
       "      <td>затруднения и болезненные ощущения при глотани...</td>\n",
       "      <td>[[0.0, 1.0, 1.0, 1.0, 1.0, 1.0, 1.0, 1.0, 1.0,...</td>\n",
       "      <td>7</td>\n",
       "    </tr>\n",
       "    <tr>\n",
       "      <th>8</th>\n",
       "      <td>Энтерит</td>\n",
       "      <td>внезапныые боли (преимущественно в середине жи...</td>\n",
       "      <td>[[0.0, 1.0, 1.0, 1.0, 1.0, 1.0, 1.0, 1.0, 1.0,...</td>\n",
       "      <td>8</td>\n",
       "    </tr>\n",
       "    <tr>\n",
       "      <th>9</th>\n",
       "      <td>Язва</td>\n",
       "      <td>боль, часто локализованная в эпигастрии и умен...</td>\n",
       "      <td>[[0.0, 1.0, 1.0, 1.0, 1.0, 1.0, 1.0, 1.0, 1.0,...</td>\n",
       "      <td>9</td>\n",
       "    </tr>\n",
       "  </tbody>\n",
       "</table>\n",
       "</div>"
      ],
      "text/plain": [
       "  disease_name                                disease_description  \\\n",
       "0   Аппендицит  Резкая боль в животе Повышение температуры Нап...   \n",
       "1      Гастрит  ГАСТРИТ СИМПТОМЫ  диспепсии (тяжесть и чувство...   \n",
       "2      Гепатит  Желтуха начало гепатита напоминает грипп: повы...   \n",
       "3     Дуоденит  боль в эпигастральной области, тошнота, рвота,...   \n",
       "4        Колит  постоянные позывы на дефекацию, урчание, вздут...   \n",
       "5   Панкреатит     Боль при панкреатите обычно очень интенсивн...   \n",
       "6   Холицестит  тупая, ноющая боль в области правого подреберь...   \n",
       "7     Эзофагит  затруднения и болезненные ощущения при глотани...   \n",
       "8      Энтерит  внезапныые боли (преимущественно в середине жи...   \n",
       "9         Язва  боль, часто локализованная в эпигастрии и умен...   \n",
       "\n",
       "                                  matrix_description  disease_indexes  \n",
       "0  [[0.0, 0.0, 1.0, 1.0, 1.0, 1.0, 1.0, 1.0, 1.0,...                0  \n",
       "1  [[0.0, 0.0, 1.0, 1.0, 1.0, 1.0, 1.0, 1.0, 1.0,...                1  \n",
       "2  [[0.0, 0.0, 1.0, 1.0, 1.0, 1.0, 1.0, 1.0, 1.0,...                2  \n",
       "3  [[0.0, 0.0, 1.0, 1.0, 1.0, 1.0, 1.0, 1.0, 1.0,...                3  \n",
       "4  [[0.0, 0.0, 1.0, 1.0, 1.0, 1.0, 1.0, 1.0, 1.0,...                4  \n",
       "5  [[0.0, 0.0, 1.0, 1.0, 1.0, 1.0, 1.0, 1.0, 1.0,...                5  \n",
       "6  [[0.0, 0.0, 1.0, 1.0, 1.0, 1.0, 1.0, 1.0, 1.0,...                6  \n",
       "7  [[0.0, 1.0, 1.0, 1.0, 1.0, 1.0, 1.0, 1.0, 1.0,...                7  \n",
       "8  [[0.0, 1.0, 1.0, 1.0, 1.0, 1.0, 1.0, 1.0, 1.0,...                8  \n",
       "9  [[0.0, 1.0, 1.0, 1.0, 1.0, 1.0, 1.0, 1.0, 1.0,...                9  "
      ]
     },
     "execution_count": 13,
     "metadata": {},
     "output_type": "execute_result"
    }
   ],
   "source": [
    "df"
   ]
  },
  {
   "cell_type": "markdown",
   "id": "60c7dfd8",
   "metadata": {},
   "source": [
    "#### Обьединение данных и формирование обучающей и тестовой выборки"
   ]
  },
  {
   "cell_type": "code",
   "execution_count": 14,
   "id": "d619716f",
   "metadata": {},
   "outputs": [
    {
     "name": "stdout",
     "output_type": "stream",
     "text": [
      "(10, 1800)\n"
     ]
    }
   ],
   "source": [
    "#Формируем матрицу индексов по принципу Bag of Words\n",
    "xAll =  [x[0] for x in df['matrix_description'].values]#Каждое слово из текста нашло свой индекс в векторе длиной maxWordsCount и отметилось в нем единичкой \n",
    "xAll = np.array(xAll)\n",
    "print(xAll.shape)  #Посмотрим на форму текстов"
   ]
  },
  {
   "cell_type": "code",
   "execution_count": 15,
   "id": "fab4ecab",
   "metadata": {},
   "outputs": [
    {
     "name": "stdout",
     "output_type": "stream",
     "text": [
      "(10, 10)\n",
      "[1. 0. 0. 0. 0. 0. 0. 0. 0. 0.]\n"
     ]
    }
   ],
   "source": [
    "yAll = utils.to_categorical(df['disease_indexes'], df['disease_indexes'].shape[0]) # И выводим каждый лейбл в виде вектора длиной 22, с 1кой в позиции соответствующего класса и нулями\n",
    "print(yAll.shape) # Посмотрим на форму лейблов категорий\n",
    "print(yAll[0]) # И отдельно на первую строку"
   ]
  },
  {
   "cell_type": "markdown",
   "id": "46bd2fb9",
   "metadata": {},
   "source": [
    "### Создание сети"
   ]
  },
  {
   "cell_type": "code",
   "execution_count": 16,
   "id": "5dc7c4f7",
   "metadata": {},
   "outputs": [],
   "source": [
    "model = Sequential()\n",
    "model.add(Dense(128, activation='relu', input_dim=max_words_count))\n",
    "model.add(BatchNormalization())\n",
    "model.add(Dropout(0.2))\n",
    "\n",
    "model.add(Dense(256, activation='relu'))\n",
    "model.add(BatchNormalization())\n",
    "model.add(Dropout(0.2))\n",
    "\n",
    "model.add(Dense(512, activation='relu'))\n",
    "model.add(BatchNormalization())\n",
    "model.add(Dropout(0.4))\n",
    "\n",
    "model.add(Dense(256, activation='relu'))\n",
    "model.add(BatchNormalization())\n",
    "model.add(Dropout(0.2))\n",
    "\n",
    "model.add(Dense(128, activation='relu'))\n",
    "model.add(BatchNormalization())\n",
    "model.add(Dropout(0.2))\n",
    "\n",
    "model.add(Dense(yAll.shape[0], activation='softmax'))"
   ]
  },
  {
   "cell_type": "markdown",
   "id": "9736bdbe",
   "metadata": {},
   "source": [
    "Компиляция модели"
   ]
  },
  {
   "cell_type": "code",
   "execution_count": 17,
   "id": "10bb8291",
   "metadata": {},
   "outputs": [],
   "source": [
    "model.compile(loss='categorical_crossentropy', optimizer=Adam(learning_rate=0.0001), metrics=['accuracy'])"
   ]
  },
  {
   "cell_type": "markdown",
   "id": "a23fba8e",
   "metadata": {},
   "source": [
    "Обучение модели"
   ]
  },
  {
   "cell_type": "code",
   "execution_count": 18,
   "id": "777264f4",
   "metadata": {},
   "outputs": [
    {
     "name": "stdout",
     "output_type": "stream",
     "text": [
      "Epoch 1/12\n",
      "1/1 [==============================] - 2s 2s/step - loss: 3.1883 - accuracy: 0.0000e+00 - val_loss: 2.2704 - val_accuracy: 0.5000\n",
      "Epoch 2/12\n",
      "1/1 [==============================] - 0s 35ms/step - loss: 1.9859 - accuracy: 0.3750 - val_loss: 2.2878 - val_accuracy: 0.5000\n",
      "Epoch 3/12\n",
      "1/1 [==============================] - 0s 34ms/step - loss: 2.2952 - accuracy: 0.1250 - val_loss: 2.3026 - val_accuracy: 0.5000\n",
      "Epoch 4/12\n",
      "1/1 [==============================] - 0s 32ms/step - loss: 3.9965 - accuracy: 0.0000e+00 - val_loss: 2.3204 - val_accuracy: 0.0000e+00\n",
      "Epoch 5/12\n",
      "1/1 [==============================] - 0s 34ms/step - loss: 2.1515 - accuracy: 0.3750 - val_loss: 2.3363 - val_accuracy: 0.0000e+00\n",
      "Epoch 6/12\n",
      "1/1 [==============================] - 0s 36ms/step - loss: 2.3631 - accuracy: 0.1250 - val_loss: 2.3553 - val_accuracy: 0.0000e+00\n",
      "Epoch 7/12\n",
      "1/1 [==============================] - 0s 35ms/step - loss: 2.2133 - accuracy: 0.2500 - val_loss: 2.3728 - val_accuracy: 0.0000e+00\n",
      "Epoch 8/12\n",
      "1/1 [==============================] - 0s 35ms/step - loss: 2.5028 - accuracy: 0.2500 - val_loss: 2.3820 - val_accuracy: 0.0000e+00\n",
      "Epoch 9/12\n",
      "1/1 [==============================] - 0s 33ms/step - loss: 3.3289 - accuracy: 0.1250 - val_loss: 2.3891 - val_accuracy: 0.0000e+00\n",
      "Epoch 10/12\n",
      "1/1 [==============================] - 0s 32ms/step - loss: 2.5573 - accuracy: 0.3750 - val_loss: 2.3980 - val_accuracy: 0.0000e+00\n",
      "Epoch 11/12\n",
      "1/1 [==============================] - 0s 31ms/step - loss: 2.0445 - accuracy: 0.2500 - val_loss: 2.4059 - val_accuracy: 0.0000e+00\n",
      "Epoch 12/12\n",
      "1/1 [==============================] - 0s 37ms/step - loss: 2.2566 - accuracy: 0.1250 - val_loss: 2.4095 - val_accuracy: 0.0000e+00\n"
     ]
    }
   ],
   "source": [
    "history = model.fit(xAll,\n",
    "          yAll,\n",
    "          batch_size=32,\n",
    "          epochs=12,\n",
    "          validation_split=0.2)"
   ]
  },
  {
   "cell_type": "code",
   "execution_count": 19,
   "id": "42301add",
   "metadata": {},
   "outputs": [
    {
     "data": {
      "image/png": "[encoded data removed]",
      "text/plain": [
       "<Figure size 640x480 with 1 Axes>"
      ]
     },
     "metadata": {},
     "output_type": "display_data"
    }
   ],
   "source": [
    "plt.plot(history.history['accuracy'], label='Точность на тренировочном наборе')\n",
    "plt.plot(history.history['val_accuracy'], label='Точность на тестовом наборе')\n",
    "plt.xlabel('Эпоха обучения')\n",
    "plt.ylabel('Точность обучения')\n",
    "plt.legend(bbox_to_anchor=(1.05, 1), loc='upper left')\n",
    "plt.show()"
   ]
  },
  {
   "cell_type": "markdown",
   "id": "e7c99ad8",
   "metadata": {},
   "source": [
    "### Проверка сети"
   ]
  },
  {
   "cell_type": "code",
   "execution_count": 20,
   "id": "5a22ffc3",
   "metadata": {},
   "outputs": [],
   "source": [
    "text = '''\n",
    "Среди них отрыжка, изжога, чувство тяжести и распирания после приема пищи, метеоризм,\n",
    "тошнота, рвота, приносящая временное облегчение.\n",
    "Также для обострений язвы желудка характерно нарушение стула.\n",
    "Чаще им сопутствуют запор, «овечий» кал плотной консистенции,\n",
    "но может развиться и диарея. Снижение аппетита.\n",
    "'''"
   ]
  },
  {
   "cell_type": "code",
   "execution_count": 21,
   "id": "c7db4984",
   "metadata": {},
   "outputs": [
    {
     "data": {
      "text/plain": [
       "array([[0., 1., 0., ..., 0., 0., 0.]])"
      ]
     },
     "execution_count": 21,
     "metadata": {},
     "output_type": "execute_result"
    }
   ],
   "source": [
    "text_matrix = tokenizer.texts_to_matrix([text])\n",
    "text_matrix"
   ]
  },
  {
   "cell_type": "code",
   "execution_count": 22,
   "id": "2debdc19",
   "metadata": {
    "scrolled": true
   },
   "outputs": [
    {
     "data": {
      "text/plain": [
       "['unknown',\n",
       " 'и',\n",
       " 'тошнота',\n",
       " 'рвота',\n",
       " 'после',\n",
       " 'отрыжка',\n",
       " 'аппетита',\n",
       " 'изжога',\n",
       " 'может',\n",
       " 'снижение',\n",
       " 'пищи',\n",
       " 'диарея',\n",
       " 'метеоризм',\n",
       " 'чувство',\n",
       " 'желудка',\n",
       " 'нарушение',\n",
       " 'тяжести',\n",
       " 'запор',\n",
       " 'приема',\n",
       " 'стула',\n",
       " 'кал',\n",
       " 'также',\n",
       " 'распирания',\n",
       " 'но',\n",
       " 'чаще',\n",
       " 'развиться',\n",
       " 'язвы',\n",
       " 'облегчение',\n",
       " 'приносящая',\n",
       " 'характерно',\n",
       " 'них']"
      ]
     },
     "execution_count": 22,
     "metadata": {},
     "output_type": "execute_result"
    }
   ],
   "source": [
    "onehot_to_text(text_matrix, tokenizer, 0.5)[0]"
   ]
  },
  {
   "cell_type": "code",
   "execution_count": 23,
   "id": "b64ed325",
   "metadata": {},
   "outputs": [
    {
     "name": "stdout",
     "output_type": "stream",
     "text": [
      "1/1 [==============================] - 0s 112ms/step\n"
     ]
    },
    {
     "data": {
      "text/plain": [
       "array(['Дуоденит'], dtype=object)"
      ]
     },
     "execution_count": 23,
     "metadata": {},
     "output_type": "execute_result"
    }
   ],
   "source": [
    "le.inverse_transform([np.argmax(model.predict(text_matrix))])"
   ]
  },
  {
   "cell_type": "markdown",
   "id": "73c106b5",
   "metadata": {},
   "source": [
    "#### Не верно, правильный ответ - Язва"
   ]
  },
  {
   "cell_type": "markdown",
   "id": "fa78a641",
   "metadata": {},
   "source": [
    "---\n",
    "<a id='emb_Conv1D'></a>\n",
    "# 2 попытка Embedding + Conv1D\n",
    "---\n",
    "### Самая удачная 3 попытка, обученая данными нарезаными плавающим окном\n",
    "#### <a href='#dense'> 1 попытка стандартная Dense сеть</a>\n",
    "#### <a href='#emb_Conv1D_window'>3 попытка Embedding + Conv1D <br> Обучение по средствам плавающего окна</a>"
   ]
  },
  {
   "cell_type": "code",
   "execution_count": 24,
   "id": "4fc7758f",
   "metadata": {},
   "outputs": [],
   "source": [
    "# Базовые библиоткеи\n",
    "import os\n",
    "import numpy as np\n",
    "import pandas as pd\n",
    "import matplotlib.pyplot as plt\n",
    "%matplotlib inline\n",
    "\n",
    "#Для работы с сетями\n",
    "from tensorflow.keras import utils\n",
    "from tensorflow.keras.optimizers import Adam\n",
    "from tensorflow.keras.models import Sequential\n",
    "# Обычные слои\n",
    "from tensorflow.keras.layers import Dense, Dropout, BatchNormalization, Embedding, Flatten\n",
    "# Сверточные слои\n",
    "from tensorflow.keras.layers import Conv1D, SpatialDropout1D, MaxPooling1D, GlobalAveragePooling1D,  GlobalMaxPooling1D\n",
    "\n",
    "\n",
    "# Инструменты обработки текста\n",
    "from tensorflow.keras.preprocessing.text import Tokenizer\n",
    "from sklearn.model_selection import train_test_split\n",
    "from tensorflow.keras.preprocessing.sequence import pad_sequences"
   ]
  },
  {
   "cell_type": "markdown",
   "id": "f8d25a49",
   "metadata": {},
   "source": [
    "### Загрузка данных"
   ]
  },
  {
   "cell_type": "markdown",
   "id": "f74e6500",
   "metadata": {},
   "source": [
    "Перед началом работы, необходимо импортировать данные, сделать это можно при помощи стандартных os библиотек, для чтения данных и pandas для хранения и изменения"
   ]
  },
  {
   "cell_type": "code",
   "execution_count": 25,
   "id": "79f29dbd",
   "metadata": {},
   "outputs": [
    {
     "data": {
      "text/plain": [
       "['Аппендицит',\n",
       " 'Гастрит',\n",
       " 'Гепатит',\n",
       " 'Дуоденит',\n",
       " 'Колит',\n",
       " 'Панкреатит',\n",
       " 'Холицестит',\n",
       " 'Эзофагит',\n",
       " 'Энтерит',\n",
       " 'Язва']"
      ]
     },
     "execution_count": 25,
     "metadata": {},
     "output_type": "execute_result"
    }
   ],
   "source": [
    "# Путь к базе\n",
    "path = 'база болезней/'\n",
    "# При помощи простого выражения (list comprehension) можно создать список из всех болезней\n",
    "diseases_names = [x.split('.')[0] for x in os.listdir(path)]\n",
    "diseases_names"
   ]
  },
  {
   "cell_type": "code",
   "execution_count": 26,
   "id": "1c9c9950",
   "metadata": {},
   "outputs": [],
   "source": [
    "# Создание набора данных (DataFrmae)\n",
    "df = pd.DataFrame(columns=['disease_name', 'disease_description'])\n",
    "# При помощи цикла проходимся по списку\n",
    "for disease in diseases_names:\n",
    "    # Открываем каждый файл для чтения\n",
    "    with open(path+disease+'.txt', mode='r', encoding='utf-8-sig') as f:\n",
    "        current_disease = f.read()\n",
    "        # Добавление названия болещни и ее описания в набор данных\n",
    "        df = pd.concat([df, pd.DataFrame({'disease_name':[disease], 'disease_description':[current_disease]})], ignore_index=True)"
   ]
  },
  {
   "cell_type": "code",
   "execution_count": 27,
   "id": "dbb20e0a",
   "metadata": {},
   "outputs": [
    {
     "data": {
      "text/html": [
       "<div>\n",
       "<style scoped>\n",
       "    .dataframe tbody tr th:only-of-type {\n",
       "        vertical-align: middle;\n",
       "    }\n",
       "\n",
       "    .dataframe tbody tr th {\n",
       "        vertical-align: top;\n",
       "    }\n",
       "\n",
       "    .dataframe thead th {\n",
       "        text-align: right;\n",
       "    }\n",
       "</style>\n",
       "<table border=\"1\" class=\"dataframe\">\n",
       "  <thead>\n",
       "    <tr style=\"text-align: right;\">\n",
       "      <th></th>\n",
       "      <th>disease_name</th>\n",
       "      <th>disease_description</th>\n",
       "    </tr>\n",
       "  </thead>\n",
       "  <tbody>\n",
       "    <tr>\n",
       "      <th>0</th>\n",
       "      <td>Аппендицит</td>\n",
       "      <td>Резкая боль в животе Повышение температуры Нап...</td>\n",
       "    </tr>\n",
       "    <tr>\n",
       "      <th>1</th>\n",
       "      <td>Гастрит</td>\n",
       "      <td>ГАСТРИТ СИМПТОМЫ  диспепсии (тяжесть и чувство...</td>\n",
       "    </tr>\n",
       "    <tr>\n",
       "      <th>2</th>\n",
       "      <td>Гепатит</td>\n",
       "      <td>Желтуха начало гепатита напоминает грипп: повы...</td>\n",
       "    </tr>\n",
       "    <tr>\n",
       "      <th>3</th>\n",
       "      <td>Дуоденит</td>\n",
       "      <td>боль в эпигастральной области, тошнота, рвота,...</td>\n",
       "    </tr>\n",
       "    <tr>\n",
       "      <th>4</th>\n",
       "      <td>Колит</td>\n",
       "      <td>постоянные позывы на дефекацию, урчание, вздут...</td>\n",
       "    </tr>\n",
       "    <tr>\n",
       "      <th>5</th>\n",
       "      <td>Панкреатит</td>\n",
       "      <td>Боль при панкреатите обычно очень интенсивн...</td>\n",
       "    </tr>\n",
       "    <tr>\n",
       "      <th>6</th>\n",
       "      <td>Холицестит</td>\n",
       "      <td>тупая, ноющая боль в области правого подреберь...</td>\n",
       "    </tr>\n",
       "    <tr>\n",
       "      <th>7</th>\n",
       "      <td>Эзофагит</td>\n",
       "      <td>затруднения и болезненные ощущения при глотани...</td>\n",
       "    </tr>\n",
       "    <tr>\n",
       "      <th>8</th>\n",
       "      <td>Энтерит</td>\n",
       "      <td>внезапныые боли (преимущественно в середине жи...</td>\n",
       "    </tr>\n",
       "    <tr>\n",
       "      <th>9</th>\n",
       "      <td>Язва</td>\n",
       "      <td>боль, часто локализованная в эпигастрии и умен...</td>\n",
       "    </tr>\n",
       "  </tbody>\n",
       "</table>\n",
       "</div>"
      ],
      "text/plain": [
       "  disease_name                                disease_description\n",
       "0   Аппендицит  Резкая боль в животе Повышение температуры Нап...\n",
       "1      Гастрит  ГАСТРИТ СИМПТОМЫ  диспепсии (тяжесть и чувство...\n",
       "2      Гепатит  Желтуха начало гепатита напоминает грипп: повы...\n",
       "3     Дуоденит  боль в эпигастральной области, тошнота, рвота,...\n",
       "4        Колит  постоянные позывы на дефекацию, урчание, вздут...\n",
       "5   Панкреатит     Боль при панкреатите обычно очень интенсивн...\n",
       "6   Холицестит  тупая, ноющая боль в области правого подреберь...\n",
       "7     Эзофагит  затруднения и болезненные ощущения при глотани...\n",
       "8      Энтерит  внезапныые боли (преимущественно в середине жи...\n",
       "9         Язва  боль, часто локализованная в эпигастрии и умен..."
      ]
     },
     "execution_count": 27,
     "metadata": {},
     "output_type": "execute_result"
    }
   ],
   "source": [
    "# Удаление лишних символов переноса строки\n",
    "df['disease_description'] = df['disease_description'].apply(lambda x: x.replace('\\n', ' '))\n",
    "df"
   ]
  },
  {
   "cell_type": "code",
   "execution_count": 28,
   "id": "2615690b",
   "metadata": {},
   "outputs": [],
   "source": [
    "all_diseases_description = ' '.join(df['disease_description'].values)"
   ]
  },
  {
   "cell_type": "markdown",
   "id": "89391dcf",
   "metadata": {},
   "source": [
    "### Обучение токенизатора"
   ]
  },
  {
   "cell_type": "code",
   "execution_count": 29,
   "id": "b58af657",
   "metadata": {},
   "outputs": [
    {
     "name": "stdout",
     "output_type": "stream",
     "text": [
      "[('unknown', 1), ('в', 2), ('и', 3), ('боль', 4), ('тошнота', 5), ('или', 6), ('рвота', 7), ('боли', 8), ('живота', 9), ('при', 10), ('животе', 11), ('после', 12), ('области', 13), ('отрыжка', 14), ('с', 15), ('слабость', 16), ('аппетита', 17), ('во', 18), ('тела', 19), ('изжога', 20), ('вздутие', 21), ('может', 22), ('снижение', 23), ('пищи', 24), ('повышение', 25), ('температуры', 26), ('рту', 27), ('еды', 28), ('диарея', 29), ('на', 30), ('иногда', 31), ('до', 32), ('к', 33), ('метеоризм', 34), ('температура', 35), ('подреберье', 36), ('верхней', 37), ('части', 38), ('не', 39), ('правом', 40), ('стул', 41), ('потеря', 42), ('чувство', 43), ('общая', 44), ('эпигастральной', 45), ('желудка', 46), ('урчание', 47), ('–', 48), ('ощущение', 49), ('отсутствие', 50), ('ощущения', 51), ('понос', 52), ('нарушение', 53), ('позывы', 54), ('тяжести', 55), ('которая', 56), ('запор', 57), ('время', 58), ('приема', 59), ('кожи', 60), ('могут', 61), ('появление', 62), ('повышенная', 63), ('эпигастрии', 64), ('стула', 65), ('тяжесть', 66), ('неприятный', 67), ('за', 68), ('крови', 69), ('—', 70), ('повышенное', 71), ('часто', 72), ('сухость', 73), ('особенно', 74), ('массы', 75), ('лихорадка', 76), ('дефекации', 77), ('быть', 78), ('слизи', 79), ('запоры', 80), ('по', 81), ('утомляемость', 82), ('характер', 83), ('от', 84), ('постоянная', 85), ('болезненность', 86), ('нарушения', 87), ('кислым', 88), ('под', 89), ('пупка', 90), ('обычно', 91), ('как', 92), ('веса', 93), ('головокружение', 94), ('со', 95), ('у', 96), ('головная', 97), ('примесью', 98), ('резкая', 99), ('острая', 100)]\n",
      "Размер словаря 1999\n"
     ]
    }
   ],
   "source": [
    "max_words_count = 1800\n",
    "tokenizer = Tokenizer(num_words=max_words_count,\n",
    "    filters='!\"#$%&()*+,-./:;<=>?@[\\\\]^_`{|}~\\t\\n',\n",
    "    lower=True,\n",
    "    split=' ',\n",
    "    char_level=False,\n",
    "    oov_token='unknown'\n",
    ")\n",
    "\n",
    "tokenizer.fit_on_texts([all_diseases_description])\n",
    "items = list(tokenizer.word_index.items())\n",
    "print(items[:100])\n",
    "print(\"Размер словаря\", len(items)) # Длина словаря"
   ]
  },
  {
   "cell_type": "code",
   "execution_count": 30,
   "id": "c7ababad",
   "metadata": {},
   "outputs": [
    {
     "data": {
      "text/plain": [
       "878"
      ]
     },
     "execution_count": 30,
     "metadata": {},
     "output_type": "execute_result"
    }
   ],
   "source": [
    "tokenizer.word_index['язв']"
   ]
  },
  {
   "cell_type": "markdown",
   "id": "9ed7902d",
   "metadata": {},
   "source": [
    "#### Преобразование данных"
   ]
  },
  {
   "cell_type": "code",
   "execution_count": 31,
   "id": "bdd5aeb2",
   "metadata": {},
   "outputs": [],
   "source": [
    "df['sequences_description'] = df['disease_description'].apply(lambda x: tokenizer.texts_to_sequences([x]))"
   ]
  },
  {
   "cell_type": "code",
   "execution_count": 32,
   "id": "2b7242d6",
   "metadata": {},
   "outputs": [
    {
     "data": {
      "text/html": [
       "<div>\n",
       "<style scoped>\n",
       "    .dataframe tbody tr th:only-of-type {\n",
       "        vertical-align: middle;\n",
       "    }\n",
       "\n",
       "    .dataframe tbody tr th {\n",
       "        vertical-align: top;\n",
       "    }\n",
       "\n",
       "    .dataframe thead th {\n",
       "        text-align: right;\n",
       "    }\n",
       "</style>\n",
       "<table border=\"1\" class=\"dataframe\">\n",
       "  <thead>\n",
       "    <tr style=\"text-align: right;\">\n",
       "      <th></th>\n",
       "      <th>disease_name</th>\n",
       "      <th>disease_description</th>\n",
       "      <th>sequences_description</th>\n",
       "    </tr>\n",
       "  </thead>\n",
       "  <tbody>\n",
       "    <tr>\n",
       "      <th>0</th>\n",
       "      <td>Аппендицит</td>\n",
       "      <td>Резкая боль в животе Повышение температуры Нап...</td>\n",
       "      <td>[[99, 4, 2, 11, 25, 26, 879, 211, 5, 100, 4, 2...</td>\n",
       "    </tr>\n",
       "    <tr>\n",
       "      <th>1</th>\n",
       "      <td>Гастрит</td>\n",
       "      <td>ГАСТРИТ СИМПТОМЫ  диспепсии (тяжесть и чувство...</td>\n",
       "      <td>[[592, 130, 334, 66, 3, 43, 101, 593, 2, 160, ...</td>\n",
       "    </tr>\n",
       "    <tr>\n",
       "      <th>2</th>\n",
       "      <td>Гепатит</td>\n",
       "      <td>Желтуха начало гепатита напоминает грипп: повы...</td>\n",
       "      <td>[[133, 1008, 1009, 1010, 1011, 25, 26, 19, 97,...</td>\n",
       "    </tr>\n",
       "    <tr>\n",
       "      <th>3</th>\n",
       "      <td>Дуоденит</td>\n",
       "      <td>боль в эпигастральной области, тошнота, рвота,...</td>\n",
       "      <td>[[4, 2, 45, 13, 5, 7, 44, 16, 86, 10, 173, 2, ...</td>\n",
       "    </tr>\n",
       "    <tr>\n",
       "      <th>4</th>\n",
       "      <td>Колит</td>\n",
       "      <td>постоянные позывы на дефекацию, урчание, вздут...</td>\n",
       "      <td>[[295, 54, 30, 202, 47, 21, 9, 1149, 52, 31, 1...</td>\n",
       "    </tr>\n",
       "    <tr>\n",
       "      <th>5</th>\n",
       "      <td>Панкреатит</td>\n",
       "      <td>Боль при панкреатите обычно очень интенсивн...</td>\n",
       "      <td>[[4, 10, 308, 91, 116, 1304, 85, 83, 425, 331,...</td>\n",
       "    </tr>\n",
       "    <tr>\n",
       "      <th>6</th>\n",
       "      <td>Холицестит</td>\n",
       "      <td>тупая, ноющая боль в области правого подреберь...</td>\n",
       "      <td>[[153, 112, 4, 2, 13, 313, 393, 1615, 106, 6, ...</td>\n",
       "    </tr>\n",
       "    <tr>\n",
       "      <th>7</th>\n",
       "      <td>Эзофагит</td>\n",
       "      <td>затруднения и болезненные ощущения при глотани...</td>\n",
       "      <td>[[544, 3, 178, 51, 10, 208, 20, 8, 18, 27, 51,...</td>\n",
       "    </tr>\n",
       "    <tr>\n",
       "      <th>8</th>\n",
       "      <td>Энтерит</td>\n",
       "      <td>внезапныые боли (преимущественно в середине жи...</td>\n",
       "      <td>[[1, 8, 414, 2, 858, 9, 7, 52, 25, 26, 130, 39...</td>\n",
       "    </tr>\n",
       "    <tr>\n",
       "      <th>9</th>\n",
       "      <td>Язва</td>\n",
       "      <td>боль, часто локализованная в эпигастрии и умен...</td>\n",
       "      <td>[[4, 72, 699, 2, 64, 3, 1, 12, 28, 6, 553, 4, ...</td>\n",
       "    </tr>\n",
       "  </tbody>\n",
       "</table>\n",
       "</div>"
      ],
      "text/plain": [
       "  disease_name                                disease_description  \\\n",
       "0   Аппендицит  Резкая боль в животе Повышение температуры Нап...   \n",
       "1      Гастрит  ГАСТРИТ СИМПТОМЫ  диспепсии (тяжесть и чувство...   \n",
       "2      Гепатит  Желтуха начало гепатита напоминает грипп: повы...   \n",
       "3     Дуоденит  боль в эпигастральной области, тошнота, рвота,...   \n",
       "4        Колит  постоянные позывы на дефекацию, урчание, вздут...   \n",
       "5   Панкреатит     Боль при панкреатите обычно очень интенсивн...   \n",
       "6   Холицестит  тупая, ноющая боль в области правого подреберь...   \n",
       "7     Эзофагит  затруднения и болезненные ощущения при глотани...   \n",
       "8      Энтерит  внезапныые боли (преимущественно в середине жи...   \n",
       "9         Язва  боль, часто локализованная в эпигастрии и умен...   \n",
       "\n",
       "                               sequences_description  \n",
       "0  [[99, 4, 2, 11, 25, 26, 879, 211, 5, 100, 4, 2...  \n",
       "1  [[592, 130, 334, 66, 3, 43, 101, 593, 2, 160, ...  \n",
       "2  [[133, 1008, 1009, 1010, 1011, 25, 26, 19, 97,...  \n",
       "3  [[4, 2, 45, 13, 5, 7, 44, 16, 86, 10, 173, 2, ...  \n",
       "4  [[295, 54, 30, 202, 47, 21, 9, 1149, 52, 31, 1...  \n",
       "5  [[4, 10, 308, 91, 116, 1304, 85, 83, 425, 331,...  \n",
       "6  [[153, 112, 4, 2, 13, 313, 393, 1615, 106, 6, ...  \n",
       "7  [[544, 3, 178, 51, 10, 208, 20, 8, 18, 27, 51,...  \n",
       "8  [[1, 8, 414, 2, 858, 9, 7, 52, 25, 26, 130, 39...  \n",
       "9  [[4, 72, 699, 2, 64, 3, 1, 12, 28, 6, 553, 4, ...  "
      ]
     },
     "execution_count": 32,
     "metadata": {},
     "output_type": "execute_result"
    }
   ],
   "source": [
    "df"
   ]
  },
  {
   "cell_type": "markdown",
   "id": "d8384dc3",
   "metadata": {},
   "source": [
    "#### Проверка распределения"
   ]
  },
  {
   "cell_type": "markdown",
   "id": "84ac1f78",
   "metadata": {},
   "source": [
    "Теперь, что бы убедится, что все коныертировалось верно, проверю матрицу"
   ]
  },
  {
   "cell_type": "code",
   "execution_count": 33,
   "id": "0f63544d",
   "metadata": {},
   "outputs": [
    {
     "data": {
      "text/plain": [
       "True"
      ]
     },
     "execution_count": 33,
     "metadata": {},
     "output_type": "execute_result"
    }
   ],
   "source": [
    "'язв' in tokenizer.sequences_to_texts(df['sequences_description'][9])[0].split(' ')"
   ]
  },
  {
   "cell_type": "markdown",
   "id": "c70b4bf9",
   "metadata": {},
   "source": [
    "#### Индрексация названия болезней"
   ]
  },
  {
   "cell_type": "code",
   "execution_count": 34,
   "id": "e04b3268",
   "metadata": {},
   "outputs": [],
   "source": [
    "from sklearn import preprocessing\n",
    "le = preprocessing.LabelEncoder()\n",
    "df['disease_indexes'] = le.fit_transform(df['disease_name'].values)"
   ]
  },
  {
   "cell_type": "code",
   "execution_count": 35,
   "id": "a7611f6b",
   "metadata": {},
   "outputs": [
    {
     "data": {
      "text/html": [
       "<div>\n",
       "<style scoped>\n",
       "    .dataframe tbody tr th:only-of-type {\n",
       "        vertical-align: middle;\n",
       "    }\n",
       "\n",
       "    .dataframe tbody tr th {\n",
       "        vertical-align: top;\n",
       "    }\n",
       "\n",
       "    .dataframe thead th {\n",
       "        text-align: right;\n",
       "    }\n",
       "</style>\n",
       "<table border=\"1\" class=\"dataframe\">\n",
       "  <thead>\n",
       "    <tr style=\"text-align: right;\">\n",
       "      <th></th>\n",
       "      <th>disease_name</th>\n",
       "      <th>disease_description</th>\n",
       "      <th>sequences_description</th>\n",
       "      <th>disease_indexes</th>\n",
       "    </tr>\n",
       "  </thead>\n",
       "  <tbody>\n",
       "    <tr>\n",
       "      <th>0</th>\n",
       "      <td>Аппендицит</td>\n",
       "      <td>Резкая боль в животе Повышение температуры Нап...</td>\n",
       "      <td>[[99, 4, 2, 11, 25, 26, 879, 211, 5, 100, 4, 2...</td>\n",
       "      <td>0</td>\n",
       "    </tr>\n",
       "    <tr>\n",
       "      <th>1</th>\n",
       "      <td>Гастрит</td>\n",
       "      <td>ГАСТРИТ СИМПТОМЫ  диспепсии (тяжесть и чувство...</td>\n",
       "      <td>[[592, 130, 334, 66, 3, 43, 101, 593, 2, 160, ...</td>\n",
       "      <td>1</td>\n",
       "    </tr>\n",
       "    <tr>\n",
       "      <th>2</th>\n",
       "      <td>Гепатит</td>\n",
       "      <td>Желтуха начало гепатита напоминает грипп: повы...</td>\n",
       "      <td>[[133, 1008, 1009, 1010, 1011, 25, 26, 19, 97,...</td>\n",
       "      <td>2</td>\n",
       "    </tr>\n",
       "    <tr>\n",
       "      <th>3</th>\n",
       "      <td>Дуоденит</td>\n",
       "      <td>боль в эпигастральной области, тошнота, рвота,...</td>\n",
       "      <td>[[4, 2, 45, 13, 5, 7, 44, 16, 86, 10, 173, 2, ...</td>\n",
       "      <td>3</td>\n",
       "    </tr>\n",
       "    <tr>\n",
       "      <th>4</th>\n",
       "      <td>Колит</td>\n",
       "      <td>постоянные позывы на дефекацию, урчание, вздут...</td>\n",
       "      <td>[[295, 54, 30, 202, 47, 21, 9, 1149, 52, 31, 1...</td>\n",
       "      <td>4</td>\n",
       "    </tr>\n",
       "    <tr>\n",
       "      <th>5</th>\n",
       "      <td>Панкреатит</td>\n",
       "      <td>Боль при панкреатите обычно очень интенсивн...</td>\n",
       "      <td>[[4, 10, 308, 91, 116, 1304, 85, 83, 425, 331,...</td>\n",
       "      <td>5</td>\n",
       "    </tr>\n",
       "    <tr>\n",
       "      <th>6</th>\n",
       "      <td>Холицестит</td>\n",
       "      <td>тупая, ноющая боль в области правого подреберь...</td>\n",
       "      <td>[[153, 112, 4, 2, 13, 313, 393, 1615, 106, 6, ...</td>\n",
       "      <td>6</td>\n",
       "    </tr>\n",
       "    <tr>\n",
       "      <th>7</th>\n",
       "      <td>Эзофагит</td>\n",
       "      <td>затруднения и болезненные ощущения при глотани...</td>\n",
       "      <td>[[544, 3, 178, 51, 10, 208, 20, 8, 18, 27, 51,...</td>\n",
       "      <td>7</td>\n",
       "    </tr>\n",
       "    <tr>\n",
       "      <th>8</th>\n",
       "      <td>Энтерит</td>\n",
       "      <td>внезапныые боли (преимущественно в середине жи...</td>\n",
       "      <td>[[1, 8, 414, 2, 858, 9, 7, 52, 25, 26, 130, 39...</td>\n",
       "      <td>8</td>\n",
       "    </tr>\n",
       "    <tr>\n",
       "      <th>9</th>\n",
       "      <td>Язва</td>\n",
       "      <td>боль, часто локализованная в эпигастрии и умен...</td>\n",
       "      <td>[[4, 72, 699, 2, 64, 3, 1, 12, 28, 6, 553, 4, ...</td>\n",
       "      <td>9</td>\n",
       "    </tr>\n",
       "  </tbody>\n",
       "</table>\n",
       "</div>"
      ],
      "text/plain": [
       "  disease_name                                disease_description  \\\n",
       "0   Аппендицит  Резкая боль в животе Повышение температуры Нап...   \n",
       "1      Гастрит  ГАСТРИТ СИМПТОМЫ  диспепсии (тяжесть и чувство...   \n",
       "2      Гепатит  Желтуха начало гепатита напоминает грипп: повы...   \n",
       "3     Дуоденит  боль в эпигастральной области, тошнота, рвота,...   \n",
       "4        Колит  постоянные позывы на дефекацию, урчание, вздут...   \n",
       "5   Панкреатит     Боль при панкреатите обычно очень интенсивн...   \n",
       "6   Холицестит  тупая, ноющая боль в области правого подреберь...   \n",
       "7     Эзофагит  затруднения и болезненные ощущения при глотани...   \n",
       "8      Энтерит  внезапныые боли (преимущественно в середине жи...   \n",
       "9         Язва  боль, часто локализованная в эпигастрии и умен...   \n",
       "\n",
       "                               sequences_description  disease_indexes  \n",
       "0  [[99, 4, 2, 11, 25, 26, 879, 211, 5, 100, 4, 2...                0  \n",
       "1  [[592, 130, 334, 66, 3, 43, 101, 593, 2, 160, ...                1  \n",
       "2  [[133, 1008, 1009, 1010, 1011, 25, 26, 19, 97,...                2  \n",
       "3  [[4, 2, 45, 13, 5, 7, 44, 16, 86, 10, 173, 2, ...                3  \n",
       "4  [[295, 54, 30, 202, 47, 21, 9, 1149, 52, 31, 1...                4  \n",
       "5  [[4, 10, 308, 91, 116, 1304, 85, 83, 425, 331,...                5  \n",
       "6  [[153, 112, 4, 2, 13, 313, 393, 1615, 106, 6, ...                6  \n",
       "7  [[544, 3, 178, 51, 10, 208, 20, 8, 18, 27, 51,...                7  \n",
       "8  [[1, 8, 414, 2, 858, 9, 7, 52, 25, 26, 130, 39...                8  \n",
       "9  [[4, 72, 699, 2, 64, 3, 1, 12, 28, 6, 553, 4, ...                9  "
      ]
     },
     "execution_count": 35,
     "metadata": {},
     "output_type": "execute_result"
    }
   ],
   "source": [
    "df"
   ]
  },
  {
   "cell_type": "markdown",
   "id": "203106aa",
   "metadata": {},
   "source": [
    "#### Обьединение данных и формирование обучающей и тестовой выборки"
   ]
  },
  {
   "cell_type": "code",
   "execution_count": 36,
   "id": "a6434b5f",
   "metadata": {},
   "outputs": [
    {
     "name": "stdout",
     "output_type": "stream",
     "text": [
      "(10, 800)\n"
     ]
    }
   ],
   "source": [
    "maxlen = 800\n",
    "#Формируем матрицу индексов по принципу Bag of Words\n",
    "xAll =  [x[0] for x in df['sequences_description'].values]#Каждое слово из текста нашло свой индекс в векторе длиной maxWordsCount и отметилось в нем единичкой \n",
    "xAll = pad_sequences(xAll, maxlen=maxlen, padding='pre', truncating='pre') #Преобразуем входные векторы\n",
    "print(xAll.shape)  #Посмотрим на форму текстов"
   ]
  },
  {
   "cell_type": "code",
   "execution_count": 37,
   "id": "b9c400f2",
   "metadata": {},
   "outputs": [
    {
     "name": "stdout",
     "output_type": "stream",
     "text": [
      "(10, 10)\n",
      "[1. 0. 0. 0. 0. 0. 0. 0. 0. 0.]\n"
     ]
    }
   ],
   "source": [
    "yAll = utils.to_categorical(df['disease_indexes'], df['disease_indexes'].shape[0]) # И выводим каждый лейбл в виде вектора длиной 22, с 1кой в позиции соответствующего класса и нулями\n",
    "print(yAll.shape) # Посмотрим на форму лейблов категорий\n",
    "print(yAll[0]) # И отдельно на первую строку"
   ]
  },
  {
   "cell_type": "markdown",
   "id": "8be54888",
   "metadata": {},
   "source": [
    "### Создание сети"
   ]
  },
  {
   "cell_type": "code",
   "execution_count": 38,
   "id": "1cfb9612",
   "metadata": {},
   "outputs": [],
   "source": [
    "model = Sequential()\n",
    "# Embedding слой\n",
    "model.add(Embedding(max_words_count, 16, input_length=maxlen))\n",
    "model.add(SpatialDropout1D(0.2))\n",
    "model.add(BatchNormalization())\n",
    "\n",
    "# Сверточные слои\n",
    "model.add(Conv1D(20, 5, activation='relu'))\n",
    "model.add(MaxPooling1D(2))\n",
    "\n",
    "model.add(Conv1D(20, 5, activation='relu'))\n",
    "model.add(MaxPooling1D(2))\n",
    "model.add(Dropout(0.2))\n",
    "model.add(BatchNormalization())\n",
    "\n",
    "# Выппрямление вектора и его нормализация\n",
    "model.add(Flatten())\n",
    "model.add(BatchNormalization())\n",
    "\n",
    "model.add(Dense(256, activation='relu'))\n",
    "model.add(BatchNormalization())\n",
    "model.add(Dropout(0.2))\n",
    "\n",
    "model.add(Dense(512, activation='relu'))\n",
    "model.add(BatchNormalization())\n",
    "model.add(Dropout(0.4))\n",
    "\n",
    "model.add(Dense(128, activation='relu'))\n",
    "model.add(BatchNormalization())\n",
    "model.add(Dropout(0.2))\n",
    "\n",
    "model.add(Dense(yAll.shape[0], activation='softmax'))"
   ]
  },
  {
   "cell_type": "markdown",
   "id": "a6eb8691",
   "metadata": {},
   "source": [
    "Компиляция модели"
   ]
  },
  {
   "cell_type": "code",
   "execution_count": 39,
   "id": "48a9612c",
   "metadata": {},
   "outputs": [],
   "source": [
    "model.compile(loss='categorical_crossentropy', optimizer=Adam(learning_rate=0.0001), metrics=['accuracy'])"
   ]
  },
  {
   "cell_type": "markdown",
   "id": "9b22e495",
   "metadata": {},
   "source": [
    "Обучение модели"
   ]
  },
  {
   "cell_type": "code",
   "execution_count": 40,
   "id": "d3b04853",
   "metadata": {},
   "outputs": [
    {
     "name": "stdout",
     "output_type": "stream",
     "text": [
      "Epoch 1/16\n",
      "1/1 [==============================] - 3s 3s/step - loss: 3.1614 - accuracy: 0.2000 - val_loss: 2.3031 - val_accuracy: 0.0000e+00\n",
      "Epoch 2/16\n",
      "1/1 [==============================] - 0s 40ms/step - loss: 3.2912 - accuracy: 0.1000 - val_loss: 2.3017 - val_accuracy: 0.1000\n",
      "Epoch 3/16\n",
      "1/1 [==============================] - 0s 38ms/step - loss: 3.2317 - accuracy: 0.3000 - val_loss: 2.3011 - val_accuracy: 0.1000\n",
      "Epoch 4/16\n",
      "1/1 [==============================] - 0s 38ms/step - loss: 2.6617 - accuracy: 0.1000 - val_loss: 2.3012 - val_accuracy: 0.1000\n",
      "Epoch 5/16\n",
      "1/1 [==============================] - 0s 42ms/step - loss: 3.2733 - accuracy: 0.1000 - val_loss: 2.3024 - val_accuracy: 0.1000\n",
      "Epoch 6/16\n",
      "1/1 [==============================] - 0s 38ms/step - loss: 2.3870 - accuracy: 0.0000e+00 - val_loss: 2.3028 - val_accuracy: 0.1000\n",
      "Epoch 7/16\n",
      "1/1 [==============================] - 0s 42ms/step - loss: 3.0396 - accuracy: 0.0000e+00 - val_loss: 2.3016 - val_accuracy: 0.1000\n",
      "Epoch 8/16\n",
      "1/1 [==============================] - 0s 49ms/step - loss: 3.0464 - accuracy: 0.1000 - val_loss: 2.3028 - val_accuracy: 0.1000\n",
      "Epoch 9/16\n",
      "1/1 [==============================] - 0s 53ms/step - loss: 2.6742 - accuracy: 0.1000 - val_loss: 2.3027 - val_accuracy: 0.1000\n",
      "Epoch 10/16\n",
      "1/1 [==============================] - 0s 46ms/step - loss: 2.7791 - accuracy: 0.0000e+00 - val_loss: 2.3025 - val_accuracy: 0.1000\n",
      "Epoch 11/16\n",
      "1/1 [==============================] - 0s 47ms/step - loss: 2.5283 - accuracy: 0.2000 - val_loss: 2.3031 - val_accuracy: 0.1000\n",
      "Epoch 12/16\n",
      "1/1 [==============================] - 0s 48ms/step - loss: 2.3307 - accuracy: 0.2000 - val_loss: 2.3034 - val_accuracy: 0.1000\n",
      "Epoch 13/16\n",
      "1/1 [==============================] - 0s 58ms/step - loss: 2.5134 - accuracy: 0.1000 - val_loss: 2.3036 - val_accuracy: 0.1000\n",
      "Epoch 14/16\n",
      "1/1 [==============================] - 0s 52ms/step - loss: 2.9008 - accuracy: 0.1000 - val_loss: 2.3038 - val_accuracy: 0.1000\n",
      "Epoch 15/16\n",
      "1/1 [==============================] - 0s 48ms/step - loss: 2.8456 - accuracy: 0.1000 - val_loss: 2.3036 - val_accuracy: 0.1000\n",
      "Epoch 16/16\n",
      "1/1 [==============================] - 0s 60ms/step - loss: 2.3741 - accuracy: 0.2000 - val_loss: 2.3035 - val_accuracy: 0.1000\n"
     ]
    }
   ],
   "source": [
    "history = model.fit(xAll,\n",
    "          yAll,\n",
    "          batch_size=16,\n",
    "          epochs=16,\n",
    "          validation_data=(xAll, yAll))"
   ]
  },
  {
   "cell_type": "code",
   "execution_count": 41,
   "id": "d5ee99cc",
   "metadata": {},
   "outputs": [
    {
     "data": {
      "image/png": "[encoded data removed]",
      "text/plain": [
       "<Figure size 640x480 with 1 Axes>"
      ]
     },
     "metadata": {},
     "output_type": "display_data"
    }
   ],
   "source": [
    "plt.plot(history.history['accuracy'], label='Точность на тренировочном наборе')\n",
    "plt.plot(history.history['val_accuracy'], label='Точность на тестовом наборе')\n",
    "plt.xlabel('Эпоха обучения')\n",
    "plt.ylabel('Точность обучения')\n",
    "plt.legend(bbox_to_anchor=(1.05, 1), loc='upper left')\n",
    "plt.show()"
   ]
  },
  {
   "cell_type": "markdown",
   "id": "ff87fd2b",
   "metadata": {},
   "source": [
    "### Проверка сети"
   ]
  },
  {
   "cell_type": "code",
   "execution_count": 42,
   "id": "2121c77f",
   "metadata": {},
   "outputs": [],
   "source": [
    "text = '''\n",
    "Среди них отрыжка, изжога, чувство тяжести и распирания после приема пищи, метеоризм,\n",
    "тошнота, рвота, приносящая временное облегчение.\n",
    "Также для обострений язвы желудка характерно нарушение стула.\n",
    "Чаще им сопутствуют запор, «овечий» кал плотной консистенции,\n",
    "но может развиться и диарея. Снижение аппетита.\n",
    "'''"
   ]
  },
  {
   "cell_type": "code",
   "execution_count": 43,
   "id": "0d93b010",
   "metadata": {
    "scrolled": true
   },
   "outputs": [
    {
     "data": {
      "text/plain": [
       "[[1,\n",
       "  1359,\n",
       "  14,\n",
       "  20,\n",
       "  43,\n",
       "  55,\n",
       "  3,\n",
       "  242,\n",
       "  12,\n",
       "  59,\n",
       "  24,\n",
       "  34,\n",
       "  5,\n",
       "  7,\n",
       "  795,\n",
       "  1,\n",
       "  788,\n",
       "  151,\n",
       "  1,\n",
       "  1,\n",
       "  703,\n",
       "  46,\n",
       "  1100,\n",
       "  53,\n",
       "  65,\n",
       "  346,\n",
       "  1,\n",
       "  1,\n",
       "  57,\n",
       "  1,\n",
       "  139,\n",
       "  1,\n",
       "  1,\n",
       "  263,\n",
       "  22,\n",
       "  603,\n",
       "  3,\n",
       "  29,\n",
       "  23,\n",
       "  17]]"
      ]
     },
     "execution_count": 43,
     "metadata": {},
     "output_type": "execute_result"
    }
   ],
   "source": [
    "text_sequences = tokenizer.texts_to_sequences([text])\n",
    "text_sequences"
   ]
  },
  {
   "cell_type": "code",
   "execution_count": 44,
   "id": "0ffff727",
   "metadata": {
    "scrolled": true
   },
   "outputs": [
    {
     "data": {
      "text/plain": [
       "'unknown них отрыжка изжога чувство тяжести и распирания после приема пищи метеоризм тошнота рвота приносящая unknown облегчение также unknown unknown язвы желудка характерно нарушение стула чаще unknown unknown запор unknown кал unknown unknown но может развиться и диарея снижение аппетита'"
      ]
     },
     "execution_count": 44,
     "metadata": {},
     "output_type": "execute_result"
    }
   ],
   "source": [
    "tokenizer.sequences_to_texts(text_sequences)[0]"
   ]
  },
  {
   "cell_type": "code",
   "execution_count": 45,
   "id": "26b9e5ad",
   "metadata": {},
   "outputs": [
    {
     "name": "stdout",
     "output_type": "stream",
     "text": [
      "1/1 [==============================] - 0s 131ms/step\n"
     ]
    },
    {
     "data": {
      "text/plain": [
       "array(['Эзофагит'], dtype=object)"
      ]
     },
     "execution_count": 45,
     "metadata": {},
     "output_type": "execute_result"
    }
   ],
   "source": [
    "text_sequences = pad_sequences(text_sequences, maxlen=maxlen)\n",
    "le.inverse_transform([np.argmax(model.predict(text_sequences))])"
   ]
  },
  {
   "cell_type": "markdown",
   "id": "76f70df2",
   "metadata": {},
   "source": [
    "#### Не верно, правильный ответ - Язва"
   ]
  },
  {
   "cell_type": "markdown",
   "id": "ae437ead",
   "metadata": {},
   "source": [
    "---\n",
    "<a id='emb_Conv1D_window'></a>\n",
    "# 3 попытка Embedding + Conv1D\n",
    "# Обучение по средствам плавающего окна\n",
    "---\n",
    "### Ссылка на 2 другие попытки, без плавающего окна\n",
    "#### <a href='#dense'> 1 попытка стандартная Dense сеть</a>\n",
    "#### <a href='#emb_Conv1D'>2 попытка Embedding + Conv1D</a>"
   ]
  },
  {
   "cell_type": "code",
   "execution_count": 1,
   "id": "db46a74b",
   "metadata": {},
   "outputs": [],
   "source": [
    "# Базовые библиоткеи\n",
    "import os\n",
    "import numpy as np\n",
    "import pandas as pd\n",
    "import matplotlib.pyplot as plt\n",
    "%matplotlib inline\n",
    "\n",
    "#Для работы с сетями\n",
    "from tensorflow.keras import utils\n",
    "from tensorflow.keras.optimizers import Adam\n",
    "from tensorflow.keras.models import Sequential\n",
    "# Обычные слои\n",
    "from tensorflow.keras.layers import Dense, Dropout, BatchNormalization, Embedding, Flatten\n",
    "# Сверточные слои\n",
    "from tensorflow.keras.layers import Conv1D, SpatialDropout1D, MaxPooling1D, GlobalAveragePooling1D,  GlobalMaxPooling1D\n",
    "\n",
    "\n",
    "# Инструменты обработки текста\n",
    "from tensorflow.keras.preprocessing.text import Tokenizer\n",
    "from sklearn.model_selection import train_test_split\n",
    "from tensorflow.keras.preprocessing.sequence import pad_sequences"
   ]
  },
  {
   "cell_type": "markdown",
   "id": "7b3c0f22",
   "metadata": {},
   "source": [
    "### Загрузка данных"
   ]
  },
  {
   "cell_type": "markdown",
   "id": "aee62eba",
   "metadata": {},
   "source": [
    "Перед началом работы, необходимо импортировать данные, сделать это можно при помощи стандартных os библиотек, для чтения данных и pandas для хранения и изменения"
   ]
  },
  {
   "cell_type": "code",
   "execution_count": 47,
   "id": "3d3a8e32",
   "metadata": {},
   "outputs": [
    {
     "data": {
      "text/plain": [
       "['Аппендицит',\n",
       " 'Гастрит',\n",
       " 'Гепатит',\n",
       " 'Дуоденит',\n",
       " 'Колит',\n",
       " 'Панкреатит',\n",
       " 'Холицестит',\n",
       " 'Эзофагит',\n",
       " 'Энтерит',\n",
       " 'Язва']"
      ]
     },
     "execution_count": 47,
     "metadata": {},
     "output_type": "execute_result"
    }
   ],
   "source": [
    "# Путь к базе\n",
    "path = 'база болезней/'\n",
    "# При помощи простого выражения (list comprehension) можно создать список из всех болезней\n",
    "diseases_names = [x.split('.')[0] for x in os.listdir(path)]\n",
    "diseases_names"
   ]
  },
  {
   "cell_type": "code",
   "execution_count": 48,
   "id": "85e0f88a",
   "metadata": {},
   "outputs": [],
   "source": [
    "# Создание набора данных (DataFrmae)\n",
    "df = pd.DataFrame(columns=['disease_name', 'disease_description'])\n",
    "# При помощи цикла проходимся по списку\n",
    "for disease in diseases_names:\n",
    "    # Открываем каждый файл для чтения\n",
    "    with open(path+disease+'.txt', mode='r', encoding='utf-8-sig') as f:\n",
    "        current_disease = f.read()\n",
    "        # Добавление названия болещни и ее описания в набор данных\n",
    "        df = pd.concat([df, pd.DataFrame({'disease_name':[disease], 'disease_description':[current_disease]})], ignore_index=True)"
   ]
  },
  {
   "cell_type": "code",
   "execution_count": 49,
   "id": "65b358d8",
   "metadata": {},
   "outputs": [
    {
     "data": {
      "text/html": [
       "<div>\n",
       "<style scoped>\n",
       "    .dataframe tbody tr th:only-of-type {\n",
       "        vertical-align: middle;\n",
       "    }\n",
       "\n",
       "    .dataframe tbody tr th {\n",
       "        vertical-align: top;\n",
       "    }\n",
       "\n",
       "    .dataframe thead th {\n",
       "        text-align: right;\n",
       "    }\n",
       "</style>\n",
       "<table border=\"1\" class=\"dataframe\">\n",
       "  <thead>\n",
       "    <tr style=\"text-align: right;\">\n",
       "      <th></th>\n",
       "      <th>disease_name</th>\n",
       "      <th>disease_description</th>\n",
       "    </tr>\n",
       "  </thead>\n",
       "  <tbody>\n",
       "    <tr>\n",
       "      <th>0</th>\n",
       "      <td>Аппендицит</td>\n",
       "      <td>Резкая боль в животе Повышение температуры Нап...</td>\n",
       "    </tr>\n",
       "    <tr>\n",
       "      <th>1</th>\n",
       "      <td>Гастрит</td>\n",
       "      <td>ГАСТРИТ СИМПТОМЫ  диспепсии (тяжесть и чувство...</td>\n",
       "    </tr>\n",
       "    <tr>\n",
       "      <th>2</th>\n",
       "      <td>Гепатит</td>\n",
       "      <td>Желтуха начало гепатита напоминает грипп: повы...</td>\n",
       "    </tr>\n",
       "    <tr>\n",
       "      <th>3</th>\n",
       "      <td>Дуоденит</td>\n",
       "      <td>боль в эпигастральной области, тошнота, рвота,...</td>\n",
       "    </tr>\n",
       "    <tr>\n",
       "      <th>4</th>\n",
       "      <td>Колит</td>\n",
       "      <td>постоянные позывы на дефекацию, урчание, вздут...</td>\n",
       "    </tr>\n",
       "    <tr>\n",
       "      <th>5</th>\n",
       "      <td>Панкреатит</td>\n",
       "      <td>Боль при панкреатите обычно очень интенсивн...</td>\n",
       "    </tr>\n",
       "    <tr>\n",
       "      <th>6</th>\n",
       "      <td>Холицестит</td>\n",
       "      <td>тупая, ноющая боль в области правого подреберь...</td>\n",
       "    </tr>\n",
       "    <tr>\n",
       "      <th>7</th>\n",
       "      <td>Эзофагит</td>\n",
       "      <td>затруднения и болезненные ощущения при глотани...</td>\n",
       "    </tr>\n",
       "    <tr>\n",
       "      <th>8</th>\n",
       "      <td>Энтерит</td>\n",
       "      <td>внезапныые боли (преимущественно в середине жи...</td>\n",
       "    </tr>\n",
       "    <tr>\n",
       "      <th>9</th>\n",
       "      <td>Язва</td>\n",
       "      <td>боль, часто локализованная в эпигастрии и умен...</td>\n",
       "    </tr>\n",
       "  </tbody>\n",
       "</table>\n",
       "</div>"
      ],
      "text/plain": [
       "  disease_name                                disease_description\n",
       "0   Аппендицит  Резкая боль в животе Повышение температуры Нап...\n",
       "1      Гастрит  ГАСТРИТ СИМПТОМЫ  диспепсии (тяжесть и чувство...\n",
       "2      Гепатит  Желтуха начало гепатита напоминает грипп: повы...\n",
       "3     Дуоденит  боль в эпигастральной области, тошнота, рвота,...\n",
       "4        Колит  постоянные позывы на дефекацию, урчание, вздут...\n",
       "5   Панкреатит     Боль при панкреатите обычно очень интенсивн...\n",
       "6   Холицестит  тупая, ноющая боль в области правого подреберь...\n",
       "7     Эзофагит  затруднения и болезненные ощущения при глотани...\n",
       "8      Энтерит  внезапныые боли (преимущественно в середине жи...\n",
       "9         Язва  боль, часто локализованная в эпигастрии и умен..."
      ]
     },
     "execution_count": 49,
     "metadata": {},
     "output_type": "execute_result"
    }
   ],
   "source": [
    "# Удаление лишних символов переноса строки\n",
    "df['disease_description'] = df['disease_description'].apply(lambda x: x.replace('\\n', ' '))\n",
    "df"
   ]
  },
  {
   "cell_type": "code",
   "execution_count": 50,
   "id": "bfdad271",
   "metadata": {},
   "outputs": [],
   "source": [
    "all_diseases_description = ' '.join(df['disease_description'].values)"
   ]
  },
  {
   "cell_type": "markdown",
   "id": "83310030",
   "metadata": {},
   "source": [
    "### Обучение токенизатора"
   ]
  },
  {
   "cell_type": "code",
   "execution_count": 51,
   "id": "16c15bac",
   "metadata": {},
   "outputs": [
    {
     "name": "stdout",
     "output_type": "stream",
     "text": [
      "[('unknown', 1), ('в', 2), ('и', 3), ('боль', 4), ('тошнота', 5), ('или', 6), ('рвота', 7), ('боли', 8), ('живота', 9), ('при', 10), ('животе', 11), ('после', 12), ('области', 13), ('отрыжка', 14), ('с', 15), ('слабость', 16), ('аппетита', 17), ('во', 18), ('тела', 19), ('изжога', 20), ('вздутие', 21), ('может', 22), ('снижение', 23), ('пищи', 24), ('повышение', 25), ('температуры', 26), ('рту', 27), ('еды', 28), ('диарея', 29), ('на', 30), ('иногда', 31), ('до', 32), ('к', 33), ('метеоризм', 34), ('температура', 35), ('подреберье', 36), ('верхней', 37), ('части', 38), ('не', 39), ('правом', 40), ('стул', 41), ('потеря', 42), ('чувство', 43), ('общая', 44), ('эпигастральной', 45), ('желудка', 46), ('урчание', 47), ('–', 48), ('ощущение', 49), ('отсутствие', 50), ('ощущения', 51), ('понос', 52), ('нарушение', 53), ('позывы', 54), ('тяжести', 55), ('которая', 56), ('запор', 57), ('время', 58), ('приема', 59), ('кожи', 60), ('могут', 61), ('появление', 62), ('повышенная', 63), ('эпигастрии', 64), ('стула', 65), ('тяжесть', 66), ('неприятный', 67), ('за', 68), ('крови', 69), ('—', 70), ('повышенное', 71), ('часто', 72), ('сухость', 73), ('особенно', 74), ('массы', 75), ('лихорадка', 76), ('дефекации', 77), ('быть', 78), ('слизи', 79), ('запоры', 80), ('по', 81), ('утомляемость', 82), ('характер', 83), ('от', 84), ('постоянная', 85), ('болезненность', 86), ('нарушения', 87), ('кислым', 88), ('под', 89), ('пупка', 90), ('обычно', 91), ('как', 92), ('веса', 93), ('головокружение', 94), ('со', 95), ('у', 96), ('головная', 97), ('примесью', 98), ('резкая', 99), ('острая', 100)]\n",
      "Размер словаря 1999\n"
     ]
    }
   ],
   "source": [
    "max_words_count = 1800\n",
    "tokenizer = Tokenizer(num_words=max_words_count,\n",
    "    filters='!\"#$%&()*+,-./:;<=>?@[\\\\]^_`{|}~\\t\\n',\n",
    "    lower=True,\n",
    "    split=' ',\n",
    "    char_level=False,\n",
    "    oov_token='unknown'\n",
    ")\n",
    "\n",
    "tokenizer.fit_on_texts([all_diseases_description])\n",
    "items = list(tokenizer.word_index.items())\n",
    "print(items[:100])\n",
    "print(\"Размер словаря\", len(items)) # Длина словаря"
   ]
  },
  {
   "cell_type": "code",
   "execution_count": 52,
   "id": "f9be399f",
   "metadata": {},
   "outputs": [
    {
     "data": {
      "text/plain": [
       "878"
      ]
     },
     "execution_count": 52,
     "metadata": {},
     "output_type": "execute_result"
    }
   ],
   "source": [
    "tokenizer.word_index['язв']"
   ]
  },
  {
   "cell_type": "markdown",
   "id": "6743c328",
   "metadata": {},
   "source": [
    "#### Преобразование данных"
   ]
  },
  {
   "cell_type": "code",
   "execution_count": 53,
   "id": "62a457cf",
   "metadata": {},
   "outputs": [],
   "source": [
    "# Формирование обучающей выборки по листу индексов слов\n",
    "# (разделение на короткие векторы)\n",
    "def getSetFromIndexes(wordIndexes, xLen, step): # функция принимает последовательность индексов, размер окна, шаг окна\n",
    "    xSample = [] # Объявляем переменную для векторов\n",
    "    wordsLen = len(wordIndexes) # Считаем количество слов\n",
    "    index = 0 # Задаем начальный индекс \n",
    "\n",
    "    while (index + xLen <= wordsLen):# Идём по всей длине вектора индексов\n",
    "        xSample.append(wordIndexes[index:index+xLen]) # \"Откусываем\" векторы длины xLen\n",
    "        index += step # Смещаеммся вперёд на step\n",
    "    \n",
    "    return xSample"
   ]
  },
  {
   "cell_type": "code",
   "execution_count": 54,
   "id": "5be99173",
   "metadata": {},
   "outputs": [],
   "source": [
    "# Формирование обучающей и проверочной выборки\n",
    "# Из двух листов индексов от двух классов\n",
    "def createSetsMultiClasses(wordIndexes, xLen, step): # Функция принимает последовательность индексов, размер окна, шаг окна\n",
    "\n",
    "    # Для каждого из 6 классов\n",
    "    # Создаём обучающую/проверочную выборку из индексов\n",
    "    nClasses = len(wordIndexes) # Задаем количество классов выборки\n",
    "    classesXSamples = []        # Здесь будет список размером \"кол-во классов*кол-во окон в тексте*длину окна (например, 6 по 1341*1000)\"\n",
    "    for wI in wordIndexes:      # Для каждого текста выборки из последовательности индексов\n",
    "        classesXSamples.append(getSetFromIndexes(wI, xLen, step)) # Добавляем в список очередной текст индексов, разбитый на \"кол-во окон*длину окна\" \n",
    "\n",
    "    # Формируем один общий xSamples\n",
    "    xSamples = [] # Здесь будет список размером \"суммарное кол-во окон во всех текстах*длину окна (например, 15779*1000)\"\n",
    "    ySamples = [] # Здесь будет список размером \"суммарное кол-во окон во всех текстах*вектор длиной 6\"\n",
    "\n",
    "    for t in range(nClasses): # В диапазоне кол-ва классов(6)\n",
    "        xT = classesXSamples[t] # Берем очередной текст вида \"кол-во окон в тексте*длину окна\"(например, 1341*1000)\n",
    "        for i in range(len(xT)): # И каждое его окно\n",
    "            xSamples.append(xT[i]) # Добавляем в общий список выборки\n",
    "            ySamples.append(utils.to_categorical(t, nClasses)) # Добавляем соответствующий вектор класса\n",
    "\n",
    "    xSamples = np.array(xSamples) # Переводим в массив numpy для подачи в нейронку\n",
    "    ySamples = np.array(ySamples) # Переводим в массив numpy для подачи в нейронку\n",
    "\n",
    "  \n",
    "    return (xSamples, ySamples) #Функция возвращает выборку и соответствующие векторы классов"
   ]
  },
  {
   "cell_type": "code",
   "execution_count": 55,
   "id": "ce6f040c",
   "metadata": {},
   "outputs": [],
   "source": [
    "#Задаём базовые параметры\n",
    "xLen = 100 #Длина отрезка текста, по которой анализируем, в словах\n",
    "step = 10 #Шаг разбиения исходного текста на обучающие векторы"
   ]
  },
  {
   "cell_type": "code",
   "execution_count": 56,
   "id": "3395c4e2",
   "metadata": {},
   "outputs": [],
   "source": [
    "df['sequences_description'] = df['disease_description'].apply(lambda x: tokenizer.texts_to_sequences([x]))"
   ]
  },
  {
   "cell_type": "code",
   "execution_count": 57,
   "id": "ef500a77",
   "metadata": {},
   "outputs": [
    {
     "data": {
      "text/html": [
       "<div>\n",
       "<style scoped>\n",
       "    .dataframe tbody tr th:only-of-type {\n",
       "        vertical-align: middle;\n",
       "    }\n",
       "\n",
       "    .dataframe tbody tr th {\n",
       "        vertical-align: top;\n",
       "    }\n",
       "\n",
       "    .dataframe thead th {\n",
       "        text-align: right;\n",
       "    }\n",
       "</style>\n",
       "<table border=\"1\" class=\"dataframe\">\n",
       "  <thead>\n",
       "    <tr style=\"text-align: right;\">\n",
       "      <th></th>\n",
       "      <th>disease_name</th>\n",
       "      <th>disease_description</th>\n",
       "      <th>sequences_description</th>\n",
       "    </tr>\n",
       "  </thead>\n",
       "  <tbody>\n",
       "    <tr>\n",
       "      <th>0</th>\n",
       "      <td>Аппендицит</td>\n",
       "      <td>Резкая боль в животе Повышение температуры Нап...</td>\n",
       "      <td>[[99, 4, 2, 11, 25, 26, 879, 211, 5, 100, 4, 2...</td>\n",
       "    </tr>\n",
       "    <tr>\n",
       "      <th>1</th>\n",
       "      <td>Гастрит</td>\n",
       "      <td>ГАСТРИТ СИМПТОМЫ  диспепсии (тяжесть и чувство...</td>\n",
       "      <td>[[592, 130, 334, 66, 3, 43, 101, 593, 2, 160, ...</td>\n",
       "    </tr>\n",
       "    <tr>\n",
       "      <th>2</th>\n",
       "      <td>Гепатит</td>\n",
       "      <td>Желтуха начало гепатита напоминает грипп: повы...</td>\n",
       "      <td>[[133, 1008, 1009, 1010, 1011, 25, 26, 19, 97,...</td>\n",
       "    </tr>\n",
       "    <tr>\n",
       "      <th>3</th>\n",
       "      <td>Дуоденит</td>\n",
       "      <td>боль в эпигастральной области, тошнота, рвота,...</td>\n",
       "      <td>[[4, 2, 45, 13, 5, 7, 44, 16, 86, 10, 173, 2, ...</td>\n",
       "    </tr>\n",
       "    <tr>\n",
       "      <th>4</th>\n",
       "      <td>Колит</td>\n",
       "      <td>постоянные позывы на дефекацию, урчание, вздут...</td>\n",
       "      <td>[[295, 54, 30, 202, 47, 21, 9, 1149, 52, 31, 1...</td>\n",
       "    </tr>\n",
       "    <tr>\n",
       "      <th>5</th>\n",
       "      <td>Панкреатит</td>\n",
       "      <td>Боль при панкреатите обычно очень интенсивн...</td>\n",
       "      <td>[[4, 10, 308, 91, 116, 1304, 85, 83, 425, 331,...</td>\n",
       "    </tr>\n",
       "    <tr>\n",
       "      <th>6</th>\n",
       "      <td>Холицестит</td>\n",
       "      <td>тупая, ноющая боль в области правого подреберь...</td>\n",
       "      <td>[[153, 112, 4, 2, 13, 313, 393, 1615, 106, 6, ...</td>\n",
       "    </tr>\n",
       "    <tr>\n",
       "      <th>7</th>\n",
       "      <td>Эзофагит</td>\n",
       "      <td>затруднения и болезненные ощущения при глотани...</td>\n",
       "      <td>[[544, 3, 178, 51, 10, 208, 20, 8, 18, 27, 51,...</td>\n",
       "    </tr>\n",
       "    <tr>\n",
       "      <th>8</th>\n",
       "      <td>Энтерит</td>\n",
       "      <td>внезапныые боли (преимущественно в середине жи...</td>\n",
       "      <td>[[1, 8, 414, 2, 858, 9, 7, 52, 25, 26, 130, 39...</td>\n",
       "    </tr>\n",
       "    <tr>\n",
       "      <th>9</th>\n",
       "      <td>Язва</td>\n",
       "      <td>боль, часто локализованная в эпигастрии и умен...</td>\n",
       "      <td>[[4, 72, 699, 2, 64, 3, 1, 12, 28, 6, 553, 4, ...</td>\n",
       "    </tr>\n",
       "  </tbody>\n",
       "</table>\n",
       "</div>"
      ],
      "text/plain": [
       "  disease_name                                disease_description  \\\n",
       "0   Аппендицит  Резкая боль в животе Повышение температуры Нап...   \n",
       "1      Гастрит  ГАСТРИТ СИМПТОМЫ  диспепсии (тяжесть и чувство...   \n",
       "2      Гепатит  Желтуха начало гепатита напоминает грипп: повы...   \n",
       "3     Дуоденит  боль в эпигастральной области, тошнота, рвота,...   \n",
       "4        Колит  постоянные позывы на дефекацию, урчание, вздут...   \n",
       "5   Панкреатит     Боль при панкреатите обычно очень интенсивн...   \n",
       "6   Холицестит  тупая, ноющая боль в области правого подреберь...   \n",
       "7     Эзофагит  затруднения и болезненные ощущения при глотани...   \n",
       "8      Энтерит  внезапныые боли (преимущественно в середине жи...   \n",
       "9         Язва  боль, часто локализованная в эпигастрии и умен...   \n",
       "\n",
       "                               sequences_description  \n",
       "0  [[99, 4, 2, 11, 25, 26, 879, 211, 5, 100, 4, 2...  \n",
       "1  [[592, 130, 334, 66, 3, 43, 101, 593, 2, 160, ...  \n",
       "2  [[133, 1008, 1009, 1010, 1011, 25, 26, 19, 97,...  \n",
       "3  [[4, 2, 45, 13, 5, 7, 44, 16, 86, 10, 173, 2, ...  \n",
       "4  [[295, 54, 30, 202, 47, 21, 9, 1149, 52, 31, 1...  \n",
       "5  [[4, 10, 308, 91, 116, 1304, 85, 83, 425, 331,...  \n",
       "6  [[153, 112, 4, 2, 13, 313, 393, 1615, 106, 6, ...  \n",
       "7  [[544, 3, 178, 51, 10, 208, 20, 8, 18, 27, 51,...  \n",
       "8  [[1, 8, 414, 2, 858, 9, 7, 52, 25, 26, 130, 39...  \n",
       "9  [[4, 72, 699, 2, 64, 3, 1, 12, 28, 6, 553, 4, ...  "
      ]
     },
     "execution_count": 57,
     "metadata": {},
     "output_type": "execute_result"
    }
   ],
   "source": [
    "df"
   ]
  },
  {
   "cell_type": "markdown",
   "id": "1f227f02",
   "metadata": {},
   "source": [
    "#### Проверка распределения"
   ]
  },
  {
   "cell_type": "markdown",
   "id": "f6c801be",
   "metadata": {},
   "source": [
    "Теперь, что бы убедится, что все коныертировалось верно, проверю матрицу"
   ]
  },
  {
   "cell_type": "code",
   "execution_count": 58,
   "id": "ac62f7d7",
   "metadata": {
    "scrolled": true
   },
   "outputs": [
    {
     "data": {
      "text/plain": [
       "True"
      ]
     },
     "execution_count": 58,
     "metadata": {},
     "output_type": "execute_result"
    }
   ],
   "source": [
    "'язв' in tokenizer.sequences_to_texts(df['sequences_description'][9])[0].split(' ')"
   ]
  },
  {
   "cell_type": "code",
   "execution_count": 59,
   "id": "93f23e3b",
   "metadata": {},
   "outputs": [
    {
     "name": "stdout",
     "output_type": "stream",
     "text": [
      "(10, 800)\n"
     ]
    }
   ],
   "source": [
    "maxlen = 800\n",
    "#Формируем матрицу индексов по принципу Bag of Words\n",
    "xAll =  [x[0] for x in df['sequences_description'].values]#Каждое слово из текста нашло свой индекс в векторе длиной maxWordsCount и отметилось в нем единичкой \n",
    "xAll = pad_sequences(xAll, maxlen=maxlen, padding='pre', truncating='pre') #Преобразуем входные векторы\n",
    "print(xAll.shape)  #Посмотрим на форму текстов"
   ]
  },
  {
   "cell_type": "code",
   "execution_count": 60,
   "id": "d359329f",
   "metadata": {},
   "outputs": [
    {
     "name": "stdout",
     "output_type": "stream",
     "text": [
      "(710, 100)\n",
      "(710, 10)\n",
      "(710, 100)\n",
      "(710, 10)\n"
     ]
    }
   ],
   "source": [
    "#Формируем обучающую и тестовую выборку\n",
    "xTrain, yTrain = createSetsMultiClasses(xAll, xLen, step) #извлекаем обучающую выборку\n",
    "xTest, yTest = createSetsMultiClasses(xAll, xLen, step)    #извлекаем тестовую выборку\n",
    "print(xTrain.shape)\n",
    "print(yTrain.shape)\n",
    "print(xTest.shape)\n",
    "print(yTest.shape)"
   ]
  },
  {
   "cell_type": "markdown",
   "id": "0a343b42",
   "metadata": {},
   "source": [
    "### Создание сети"
   ]
  },
  {
   "cell_type": "code",
   "execution_count": 61,
   "id": "52d9f703",
   "metadata": {},
   "outputs": [],
   "source": [
    "model = Sequential()\n",
    "# Embedding слой\n",
    "model.add(Embedding(max_words_count, 16, input_length=xLen))\n",
    "model.add(SpatialDropout1D(0.2))\n",
    "model.add(BatchNormalization())\n",
    "\n",
    "# Сверточные слои\n",
    "model.add(Conv1D(20, 5, activation='relu'))\n",
    "model.add(MaxPooling1D(2))\n",
    "\n",
    "model.add(Conv1D(20, 5, activation='relu'))\n",
    "model.add(MaxPooling1D(2))\n",
    "model.add(Dropout(0.2))\n",
    "model.add(BatchNormalization())\n",
    "\n",
    "# Выппрямление вектора и его нормализация\n",
    "model.add(Flatten())\n",
    "model.add(BatchNormalization())\n",
    "\n",
    "model.add(Dense(256, activation='relu'))\n",
    "model.add(BatchNormalization())\n",
    "model.add(Dropout(0.2))\n",
    "\n",
    "model.add(Dense(512, activation='relu'))\n",
    "model.add(BatchNormalization())\n",
    "model.add(Dropout(0.4))\n",
    "\n",
    "model.add(Dense(128, activation='relu'))\n",
    "model.add(BatchNormalization())\n",
    "model.add(Dropout(0.2))\n",
    "\n",
    "model.add(Dense(yAll.shape[0], activation='softmax'))"
   ]
  },
  {
   "cell_type": "markdown",
   "id": "223edb05",
   "metadata": {},
   "source": [
    "Компиляция модели"
   ]
  },
  {
   "cell_type": "code",
   "execution_count": 62,
   "id": "478b7b5f",
   "metadata": {},
   "outputs": [],
   "source": [
    "model.compile(loss='categorical_crossentropy', optimizer=Adam(learning_rate=0.0001), metrics=['accuracy'])"
   ]
  },
  {
   "cell_type": "markdown",
   "id": "dd8e21b6",
   "metadata": {},
   "source": [
    "Обучение модели"
   ]
  },
  {
   "cell_type": "code",
   "execution_count": 63,
   "id": "8d127cc8",
   "metadata": {},
   "outputs": [
    {
     "name": "stdout",
     "output_type": "stream",
     "text": [
      "Epoch 1/16\n",
      "45/45 [==============================] - 2s 22ms/step - loss: 3.2318 - accuracy: 0.0817\n",
      "Epoch 2/16\n",
      "45/45 [==============================] - 1s 15ms/step - loss: 3.1467 - accuracy: 0.1042\n",
      "Epoch 3/16\n",
      "45/45 [==============================] - 1s 15ms/step - loss: 2.8856 - accuracy: 0.1239\n",
      "Epoch 4/16\n",
      "45/45 [==============================] - 1s 15ms/step - loss: 2.9069 - accuracy: 0.1324\n",
      "Epoch 5/16\n",
      "45/45 [==============================] - 1s 19ms/step - loss: 2.8762 - accuracy: 0.1254\n",
      "Epoch 6/16\n",
      "45/45 [==============================] - 1s 20ms/step - loss: 2.7384 - accuracy: 0.1563\n",
      "Epoch 7/16\n",
      "45/45 [==============================] - 1s 19ms/step - loss: 2.7909 - accuracy: 0.1535\n",
      "Epoch 8/16\n",
      "45/45 [==============================] - 1s 19ms/step - loss: 2.7144 - accuracy: 0.1606\n",
      "Epoch 9/16\n",
      "45/45 [==============================] - 1s 19ms/step - loss: 2.6671 - accuracy: 0.1479\n",
      "Epoch 10/16\n",
      "45/45 [==============================] - 1s 20ms/step - loss: 2.7121 - accuracy: 0.1662\n",
      "Epoch 11/16\n",
      "45/45 [==============================] - 1s 19ms/step - loss: 2.5960 - accuracy: 0.1944\n",
      "Epoch 12/16\n",
      "45/45 [==============================] - 1s 19ms/step - loss: 2.5967 - accuracy: 0.1789\n",
      "Epoch 13/16\n",
      "45/45 [==============================] - 1s 19ms/step - loss: 2.6129 - accuracy: 0.1620\n",
      "Epoch 14/16\n",
      "45/45 [==============================] - 1s 20ms/step - loss: 2.4723 - accuracy: 0.1915\n",
      "Epoch 15/16\n",
      "45/45 [==============================] - 1s 19ms/step - loss: 2.4256 - accuracy: 0.2042\n",
      "Epoch 16/16\n",
      "45/45 [==============================] - 1s 19ms/step - loss: 2.4138 - accuracy: 0.2268\n"
     ]
    }
   ],
   "source": [
    "history = model.fit(xTrain, \n",
    "          yTrain,\n",
    "          batch_size=16,\n",
    "          epochs=16)"
   ]
  },
  {
   "cell_type": "code",
   "execution_count": 65,
   "id": "6e837ae7",
   "metadata": {},
   "outputs": [
    {
     "data": {
      "image/png": "[encoded data removed]",
      "text/plain": [
       "<Figure size 640x480 with 1 Axes>"
      ]
     },
     "metadata": {},
     "output_type": "display_data"
    }
   ],
   "source": [
    "plt.plot(history.history['accuracy'], label='Точность на тренировочном наборе')\n",
    "# plt.plot(history.history['val_accuracy'], label='Точность на тестовом наборе')\n",
    "plt.xlabel('Эпоха обучения')\n",
    "plt.ylabel('Точность обучения')\n",
    "plt.legend(bbox_to_anchor=(1.05, 1), loc='upper left')\n",
    "plt.show()"
   ]
  },
  {
   "cell_type": "markdown",
   "id": "78acfb0c",
   "metadata": {},
   "source": [
    "### Проверка сети"
   ]
  },
  {
   "cell_type": "markdown",
   "id": "96f44a80",
   "metadata": {},
   "source": [
    "#### Тест 1"
   ]
  },
  {
   "cell_type": "code",
   "execution_count": 70,
   "id": "81ced766",
   "metadata": {},
   "outputs": [],
   "source": [
    "text = '''\n",
    "Среди них отрыжка, изжога, чувство тяжести и распирания после приема пищи, метеоризм,\n",
    "тошнота, рвота, приносящая временное облегчение.\n",
    "Также для обострений язвы желудка характерно нарушение стула.\n",
    "Чаще им сопутствуют запор, «овечий» кал плотной консистенции,\n",
    "но может развиться и диарея. Снижение аппетита.\n",
    "'''"
   ]
  },
  {
   "cell_type": "code",
   "execution_count": 71,
   "id": "4d18fef8",
   "metadata": {
    "scrolled": true
   },
   "outputs": [],
   "source": [
    "text_sequences = tokenizer.texts_to_sequences([text])\n",
    "# text_sequences"
   ]
  },
  {
   "cell_type": "code",
   "execution_count": 72,
   "id": "b5ac8b28",
   "metadata": {
    "scrolled": true
   },
   "outputs": [
    {
     "data": {
      "text/plain": [
       "'unknown них отрыжка изжога чувство тяжести и распирания после приема пищи метеоризм тошнота рвота приносящая unknown облегчение также unknown unknown язвы желудка характерно нарушение стула чаще unknown unknown запор unknown кал unknown unknown но может развиться и диарея снижение аппетита'"
      ]
     },
     "execution_count": 72,
     "metadata": {},
     "output_type": "execute_result"
    }
   ],
   "source": [
    "tokenizer.sequences_to_texts(text_sequences)[0]"
   ]
  },
  {
   "cell_type": "code",
   "execution_count": 73,
   "id": "c65d9456",
   "metadata": {
    "scrolled": false
   },
   "outputs": [
    {
     "name": "stdout",
     "output_type": "stream",
     "text": [
      "1/1 [==============================] - 0s 18ms/step\n"
     ]
    },
    {
     "data": {
      "text/plain": [
       "array(['Язва'], dtype=object)"
      ]
     },
     "execution_count": 73,
     "metadata": {},
     "output_type": "execute_result"
    }
   ],
   "source": [
    "text_sequences = pad_sequences(text_sequences, maxlen=xLen)\n",
    "le.inverse_transform([np.argmax(model.predict(text_sequences))])"
   ]
  },
  {
   "cell_type": "markdown",
   "id": "2b4ac82e",
   "metadata": {},
   "source": [
    "#### Верно (язва)"
   ]
  },
  {
   "cell_type": "markdown",
   "id": "196c03e1",
   "metadata": {},
   "source": [
    "#### Тест 2"
   ]
  },
  {
   "cell_type": "code",
   "execution_count": 83,
   "id": "ebb0b3e6",
   "metadata": {},
   "outputs": [],
   "source": [
    "text = '''\n",
    "диарея;\n",
    "слизь и/или кровь в фекалиях;\n",
    "боль в животе слева;\n",
    "чувство слабости;\n",
    "повышение температуры тела;\n",
    "потеря аппетита и веса;\n",
    "частая потребность в опорожнении кишечника;\n",
    "необъяснимое снижение массы тела;\n",
    "'''"
   ]
  },
  {
   "cell_type": "code",
   "execution_count": 84,
   "id": "ad4cdf8e",
   "metadata": {
    "scrolled": true
   },
   "outputs": [],
   "source": [
    "text_sequences = tokenizer.texts_to_sequences([text])\n",
    "# text_sequences"
   ]
  },
  {
   "cell_type": "code",
   "execution_count": 85,
   "id": "86cdc7d5",
   "metadata": {
    "scrolled": true
   },
   "outputs": [
    {
     "data": {
      "text/plain": [
       "'диарея слизь и или кровь в unknown боль в животе слева чувство слабости повышение температуры тела потеря аппетита и веса частая unknown в unknown кишечника unknown снижение массы тела'"
      ]
     },
     "execution_count": 85,
     "metadata": {},
     "output_type": "execute_result"
    }
   ],
   "source": [
    "tokenizer.sequences_to_texts(text_sequences)[0]"
   ]
  },
  {
   "cell_type": "code",
   "execution_count": 86,
   "id": "0715f81c",
   "metadata": {
    "scrolled": true
   },
   "outputs": [
    {
     "name": "stdout",
     "output_type": "stream",
     "text": [
      "1/1 [==============================] - 0s 19ms/step\n"
     ]
    },
    {
     "data": {
      "text/plain": [
       "array(['Язва'], dtype=object)"
      ]
     },
     "execution_count": 86,
     "metadata": {},
     "output_type": "execute_result"
    }
   ],
   "source": [
    "text_sequences = pad_sequences(text_sequences, maxlen=xLen)\n",
    "le.inverse_transform([np.argmax(model.predict(text_sequences))])"
   ]
  },
  {
   "cell_type": "markdown",
   "id": "8d266d60",
   "metadata": {},
   "source": [
    "#### Не верно (колит)"
   ]
  },
  {
   "cell_type": "markdown",
   "id": "12dcc182",
   "metadata": {},
   "source": [
    "#### Тест 3"
   ]
  },
  {
   "cell_type": "code",
   "execution_count": 74,
   "id": "e14a5c88",
   "metadata": {},
   "outputs": [],
   "source": [
    "text = '''\n",
    "постоянно присутствующее чувство тяжести в правом подреберье;\n",
    "интенсивный кожный зуд;\n",
    "желтизна на коже и слизистых;\n",
    "кал становится светлым, а моча – темной;\n",
    "у больного пропадает аппетит, но всегда присутствует тошнота;\n",
    "периодические боли в области анатомического расположения печени;\n",
    "'''"
   ]
  },
  {
   "cell_type": "code",
   "execution_count": 75,
   "id": "59cdc58b",
   "metadata": {
    "scrolled": true
   },
   "outputs": [],
   "source": [
    "text_sequences = tokenizer.texts_to_sequences([text])\n",
    "# text_sequences"
   ]
  },
  {
   "cell_type": "code",
   "execution_count": 76,
   "id": "ac81c9fc",
   "metadata": {
    "scrolled": true
   },
   "outputs": [
    {
     "data": {
      "text/plain": [
       "'постоянно unknown чувство тяжести в правом подреберье unknown кожный зуд желтизна на коже и слизистых кал становится unknown а моча – unknown у больного пропадает аппетит но всегда unknown тошнота периодические боли в области unknown расположения печени'"
      ]
     },
     "execution_count": 76,
     "metadata": {},
     "output_type": "execute_result"
    }
   ],
   "source": [
    "tokenizer.sequences_to_texts(text_sequences)[0]"
   ]
  },
  {
   "cell_type": "code",
   "execution_count": 78,
   "id": "429e5572",
   "metadata": {
    "scrolled": true
   },
   "outputs": [
    {
     "name": "stdout",
     "output_type": "stream",
     "text": [
      "1/1 [==============================] - 0s 17ms/step\n"
     ]
    },
    {
     "data": {
      "text/plain": [
       "array(['Язва'], dtype=object)"
      ]
     },
     "execution_count": 78,
     "metadata": {},
     "output_type": "execute_result"
    }
   ],
   "source": [
    "text_sequences = pad_sequences(text_sequences, maxlen=xLen)\n",
    "le.inverse_transform([np.argmax(model.predict(text_sequences))])"
   ]
  },
  {
   "cell_type": "markdown",
   "id": "098e6624",
   "metadata": {},
   "source": [
    "#### Не верное (Гепатит)"
   ]
  },
  {
   "cell_type": "markdown",
   "id": "7a0c42d8",
   "metadata": {},
   "source": [
    "#### Тест 4"
   ]
  },
  {
   "cell_type": "code",
   "execution_count": 79,
   "id": "ca0b1da0",
   "metadata": {},
   "outputs": [],
   "source": [
    "text = '''\n",
    "боль в животе. Чаще всего она возникает в районе пупка, а затем смещается ниже и нарастает с развитием воспаления.\n",
    "Боль при аппендиците усиливается при кашле или чихании, резких движениях или смене положения во сне.\n",
    "'''"
   ]
  },
  {
   "cell_type": "code",
   "execution_count": 80,
   "id": "b3260d97",
   "metadata": {
    "scrolled": true
   },
   "outputs": [],
   "source": [
    "text_sequences = tokenizer.texts_to_sequences([text])\n",
    "# text_sequences"
   ]
  },
  {
   "cell_type": "code",
   "execution_count": 81,
   "id": "05f566f7",
   "metadata": {
    "scrolled": true
   },
   "outputs": [
    {
     "data": {
      "text/plain": [
       "'боль в животе чаще всего она возникает в районе пупка а затем смещается unknown и нарастает с unknown воспаления боль при unknown усиливается при кашле или unknown резких движениях или unknown положения во сне'"
      ]
     },
     "execution_count": 81,
     "metadata": {},
     "output_type": "execute_result"
    }
   ],
   "source": [
    "tokenizer.sequences_to_texts(text_sequences)[0]"
   ]
  },
  {
   "cell_type": "code",
   "execution_count": 82,
   "id": "93b51567",
   "metadata": {
    "scrolled": true
   },
   "outputs": [
    {
     "name": "stdout",
     "output_type": "stream",
     "text": [
      "1/1 [==============================] - 0s 16ms/step\n"
     ]
    },
    {
     "data": {
      "text/plain": [
       "array(['Аппендицит'], dtype=object)"
      ]
     },
     "execution_count": 82,
     "metadata": {},
     "output_type": "execute_result"
    }
   ],
   "source": [
    "text_sequences = pad_sequences(text_sequences, maxlen=xLen)\n",
    "le.inverse_transform([np.argmax(model.predict(text_sequences))])"
   ]
  },
  {
   "cell_type": "markdown",
   "id": "16907d63",
   "metadata": {},
   "source": [
    "#### Верно (Аппендицит)"
   ]
  },
  {
   "cell_type": "markdown",
   "id": "a40b0be6",
   "metadata": {},
   "source": [
    "#### Тест 5"
   ]
  },
  {
   "cell_type": "code",
   "execution_count": 87,
   "id": "acb9101a",
   "metadata": {},
   "outputs": [],
   "source": [
    "text = '''\n",
    "Боль может быть приступообразной и постоянной Метеоризм,\n",
    "потеря массы тела, выделение большого количества непереваренных жиров с калом являются проявлениями нарушения выработки\n",
    "ферментов поджелудочной железы Тошнота, рвота могут сопровождать приступ боли\n",
    "'''"
   ]
  },
  {
   "cell_type": "code",
   "execution_count": 88,
   "id": "3c98a4b6",
   "metadata": {
    "scrolled": true
   },
   "outputs": [],
   "source": [
    "text_sequences = tokenizer.texts_to_sequences([text])\n",
    "# text_sequences"
   ]
  },
  {
   "cell_type": "code",
   "execution_count": 89,
   "id": "8181d460",
   "metadata": {
    "scrolled": true
   },
   "outputs": [
    {
     "data": {
      "text/plain": [
       "'боль может быть unknown и постоянной метеоризм потеря массы тела выделение unknown unknown непереваренных unknown с unknown являются проявлениями нарушения unknown unknown поджелудочной железы тошнота рвота могут unknown приступ боли'"
      ]
     },
     "execution_count": 89,
     "metadata": {},
     "output_type": "execute_result"
    }
   ],
   "source": [
    "tokenizer.sequences_to_texts(text_sequences)[0]"
   ]
  },
  {
   "cell_type": "code",
   "execution_count": 90,
   "id": "a3f278c2",
   "metadata": {
    "scrolled": true
   },
   "outputs": [
    {
     "name": "stdout",
     "output_type": "stream",
     "text": [
      "1/1 [==============================] - 0s 16ms/step\n"
     ]
    },
    {
     "data": {
      "text/plain": [
       "array(['Язва'], dtype=object)"
      ]
     },
     "execution_count": 90,
     "metadata": {},
     "output_type": "execute_result"
    }
   ],
   "source": [
    "text_sequences = pad_sequences(text_sequences, maxlen=xLen)\n",
    "le.inverse_transform([np.argmax(model.predict(text_sequences))])"
   ]
  },
  {
   "cell_type": "markdown",
   "id": "8dc43451",
   "metadata": {},
   "source": [
    "#### Не верное (панкреатит)"
   ]
  },
  {
   "cell_type": "markdown",
   "id": "2deca5a3",
   "metadata": {},
   "source": [
    "#### Тут не смотря на неправильное обучение, сеть показала хоть какой то результат, около 30% качество обучение и несколько верных ответов на тестировании"
   ]
  },
  {
   "cell_type": "markdown",
   "id": "8a4a7628",
   "metadata": {},
   "source": [
    "Чисто в теории если потестировать разные слои в сетке + достать данные для тестовой выборки, то можно значительно улучшить данную сеть"
   ]
  }
 ],
 "metadata": {
  "kernelspec": {
   "display_name": "Python 3 (ipykernel)",
   "language": "python",
   "name": "python3"
  },
  "language_info": {
   "codemirror_mode": {
    "name": "ipython",
    "version": 3
   },
   "file_extension": ".py",
   "mimetype": "text/x-python",
   "name": "python",
   "nbconvert_exporter": "python",
   "pygments_lexer": "ipython3",
   "version": "3.9.17"
  }
 },
 "nbformat": 4,
 "nbformat_minor": 5
}
