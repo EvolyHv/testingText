{
 "cells": [
  {
   "cell_type": "code",
   "execution_count": 1,
   "id": "359ee407",
   "metadata": {},
   "outputs": [],
   "source": [
    "# Базовые библиоткеи\n",
    "import os\n",
    "import numpy as np\n",
    "import pandas as pd\n",
    "import matplotlib.pyplot as plt\n",
    "%matplotlib inline\n",
    "\n",
    "from tensorflow.keras.models import Sequential\n",
    "# Стандартные слои\n",
    "from tensorflow.keras.layers import Dense, Dropout, BatchNormalization, Embedding, Flatten, Activation\n",
    "# Сверточные слои\n",
    "from tensorflow.keras.layers import Conv1D, SpatialDropout1D, MaxPooling1D, GlobalAveragePooling1D,  GlobalMaxPooling1D\n",
    "# Рекурентные слои\n",
    "from tensorflow.keras.layers import LSTM, GRU, SimpleRNN,  Bidirectional, concatenate\n",
    "# Алгоритмы обучения\\оптимизации\n",
    "from tensorflow.keras.optimizers import Adam, RMSprop\n",
    "\n",
    "# Инструменты предобработки текста\n",
    "from tensorflow.keras import utils\n",
    "from sklearn.model_selection import train_test_split\n",
    "from tensorflow.keras.preprocessing.sequence import pad_sequences\n",
    "from keras.preprocessing.text import Tokenizer, text_to_word_sequence"
   ]
  },
  {
   "cell_type": "markdown",
   "id": "1d827e26",
   "metadata": {},
   "source": [
    "### Загрузка данных<br>\n",
    "Перед началом работы, данные неоюходимо импортировать, сделать это можно при помощи стандартной библиотеки os, а для работы с данными можно использовать pandas"
   ]
  },
  {
   "cell_type": "code",
   "execution_count": 2,
   "id": "d8f11800",
   "metadata": {},
   "outputs": [
    {
     "data": {
      "text/plain": [
       "['Аппендицит',\n",
       " 'Гастрит',\n",
       " 'Гепатит',\n",
       " 'Дуоденит',\n",
       " 'Колит',\n",
       " 'Панкреатит',\n",
       " 'Холицестит',\n",
       " 'Эзофагит',\n",
       " 'Энтерит',\n",
       " 'Язва']"
      ]
     },
     "execution_count": 2,
     "metadata": {},
     "output_type": "execute_result"
    }
   ],
   "source": [
    "path = 'база болезней/'\n",
    "# При помощи простого выражения (list comprehension) можно создать список из всех болезней\n",
    "diseases_names = [x.split('.')[0] for x in os.listdir(path)]\n",
    "diseases_names"
   ]
  },
  {
   "cell_type": "code",
   "execution_count": 3,
   "id": "a93dcd2b",
   "metadata": {},
   "outputs": [],
   "source": [
    "# Создание набора данных (DataFrmae)\n",
    "df = pd.DataFrame(columns=['disease_name', 'disease_description'])\n",
    "# При помощи цикла проходимся по списку\n",
    "for disease in diseases_names:\n",
    "    # Открываем каждый файл для чтения\n",
    "    with open(path+disease+'.txt', mode='r', encoding='utf-8-sig') as f:\n",
    "        current_disease = f.read()\n",
    "        # Добавление названия болещни и ее описания в набор данных\n",
    "        df = pd.concat([df, pd.DataFrame({'disease_name':[disease], 'disease_description':[current_disease]})], ignore_index=True)"
   ]
  },
  {
   "cell_type": "code",
   "execution_count": 4,
   "id": "4d7944d6",
   "metadata": {},
   "outputs": [
    {
     "data": {
      "text/html": [
       "<div>\n",
       "<style scoped>\n",
       "    .dataframe tbody tr th:only-of-type {\n",
       "        vertical-align: middle;\n",
       "    }\n",
       "\n",
       "    .dataframe tbody tr th {\n",
       "        vertical-align: top;\n",
       "    }\n",
       "\n",
       "    .dataframe thead th {\n",
       "        text-align: right;\n",
       "    }\n",
       "</style>\n",
       "<table border=\"1\" class=\"dataframe\">\n",
       "  <thead>\n",
       "    <tr style=\"text-align: right;\">\n",
       "      <th></th>\n",
       "      <th>disease_name</th>\n",
       "      <th>disease_description</th>\n",
       "    </tr>\n",
       "  </thead>\n",
       "  <tbody>\n",
       "    <tr>\n",
       "      <th>0</th>\n",
       "      <td>Аппендицит</td>\n",
       "      <td>Резкая боль в животе Повышение температуры Нап...</td>\n",
       "    </tr>\n",
       "    <tr>\n",
       "      <th>1</th>\n",
       "      <td>Гастрит</td>\n",
       "      <td>ГАСТРИТ СИМПТОМЫ  диспепсии (тяжесть и чувство...</td>\n",
       "    </tr>\n",
       "    <tr>\n",
       "      <th>2</th>\n",
       "      <td>Гепатит</td>\n",
       "      <td>Желтуха начало гепатита напоминает грипп: повы...</td>\n",
       "    </tr>\n",
       "    <tr>\n",
       "      <th>3</th>\n",
       "      <td>Дуоденит</td>\n",
       "      <td>боль в эпигастральной области, тошнота, рвота,...</td>\n",
       "    </tr>\n",
       "    <tr>\n",
       "      <th>4</th>\n",
       "      <td>Колит</td>\n",
       "      <td>постоянные позывы на дефекацию, урчание, вздут...</td>\n",
       "    </tr>\n",
       "    <tr>\n",
       "      <th>5</th>\n",
       "      <td>Панкреатит</td>\n",
       "      <td>Боль при панкреатите обычно очень интенсивн...</td>\n",
       "    </tr>\n",
       "    <tr>\n",
       "      <th>6</th>\n",
       "      <td>Холицестит</td>\n",
       "      <td>тупая, ноющая боль в области правого подреберь...</td>\n",
       "    </tr>\n",
       "    <tr>\n",
       "      <th>7</th>\n",
       "      <td>Эзофагит</td>\n",
       "      <td>затруднения и болезненные ощущения при глотани...</td>\n",
       "    </tr>\n",
       "    <tr>\n",
       "      <th>8</th>\n",
       "      <td>Энтерит</td>\n",
       "      <td>внезапныые боли (преимущественно в середине жи...</td>\n",
       "    </tr>\n",
       "    <tr>\n",
       "      <th>9</th>\n",
       "      <td>Язва</td>\n",
       "      <td>боль, часто локализованная в эпигастрии и умен...</td>\n",
       "    </tr>\n",
       "  </tbody>\n",
       "</table>\n",
       "</div>"
      ],
      "text/plain": [
       "  disease_name                                disease_description\n",
       "0   Аппендицит  Резкая боль в животе Повышение температуры Нап...\n",
       "1      Гастрит  ГАСТРИТ СИМПТОМЫ  диспепсии (тяжесть и чувство...\n",
       "2      Гепатит  Желтуха начало гепатита напоминает грипп: повы...\n",
       "3     Дуоденит  боль в эпигастральной области, тошнота, рвота,...\n",
       "4        Колит  постоянные позывы на дефекацию, урчание, вздут...\n",
       "5   Панкреатит     Боль при панкреатите обычно очень интенсивн...\n",
       "6   Холицестит  тупая, ноющая боль в области правого подреберь...\n",
       "7     Эзофагит  затруднения и болезненные ощущения при глотани...\n",
       "8      Энтерит  внезапныые боли (преимущественно в середине жи...\n",
       "9         Язва  боль, часто локализованная в эпигастрии и умен..."
      ]
     },
     "execution_count": 4,
     "metadata": {},
     "output_type": "execute_result"
    }
   ],
   "source": [
    "# Удаление лишних символов переноса строки\n",
    "df['disease_description'] = df['disease_description'].apply(lambda x: x.replace('\\n', ' '))\n",
    "df"
   ]
  },
  {
   "cell_type": "code",
   "execution_count": 5,
   "id": "e2562c2c",
   "metadata": {},
   "outputs": [],
   "source": [
    "all_diseases_description = ' '.join(df['disease_description'].values)"
   ]
  },
  {
   "cell_type": "markdown",
   "id": "c7c9359b",
   "metadata": {},
   "source": [
    "### Обучение токенизатора"
   ]
  },
  {
   "cell_type": "code",
   "execution_count": 6,
   "id": "fc5dc3cb",
   "metadata": {},
   "outputs": [
    {
     "name": "stdout",
     "output_type": "stream",
     "text": [
      "[('unknown', 1), ('в', 2), ('и', 3), ('боль', 4), ('тошнота', 5), ('или', 6), ('рвота', 7), ('боли', 8), ('живота', 9), ('при', 10), ('животе', 11), ('после', 12), ('области', 13), ('отрыжка', 14), ('с', 15), ('слабость', 16), ('аппетита', 17), ('во', 18), ('тела', 19), ('изжога', 20), ('вздутие', 21), ('может', 22), ('снижение', 23), ('пищи', 24), ('повышение', 25), ('температуры', 26), ('рту', 27), ('еды', 28), ('диарея', 29), ('на', 30), ('иногда', 31), ('до', 32), ('к', 33), ('метеоризм', 34), ('температура', 35), ('подреберье', 36), ('верхней', 37), ('части', 38), ('не', 39), ('правом', 40), ('стул', 41), ('потеря', 42), ('чувство', 43), ('общая', 44), ('эпигастральной', 45), ('желудка', 46), ('урчание', 47), ('–', 48), ('ощущение', 49), ('отсутствие', 50), ('ощущения', 51), ('понос', 52), ('нарушение', 53), ('позывы', 54), ('тяжести', 55), ('которая', 56), ('запор', 57), ('время', 58), ('приема', 59), ('кожи', 60), ('могут', 61), ('появление', 62), ('повышенная', 63), ('эпигастрии', 64), ('стула', 65), ('тяжесть', 66), ('неприятный', 67), ('за', 68), ('крови', 69), ('—', 70), ('повышенное', 71), ('часто', 72), ('сухость', 73), ('особенно', 74), ('массы', 75), ('лихорадка', 76), ('дефекации', 77), ('быть', 78), ('слизи', 79), ('запоры', 80), ('по', 81), ('утомляемость', 82), ('характер', 83), ('от', 84), ('постоянная', 85), ('болезненность', 86), ('нарушения', 87), ('кислым', 88), ('под', 89), ('пупка', 90), ('обычно', 91), ('как', 92), ('веса', 93), ('головокружение', 94), ('со', 95), ('у', 96), ('головная', 97), ('примесью', 98), ('резкая', 99), ('острая', 100)]\n",
      "Размер словаря 1999\n"
     ]
    }
   ],
   "source": [
    "max_words_count = 1800\n",
    "tokenizer = Tokenizer(num_words=max_words_count,\n",
    "    filters='!\"#$%&()*+,-./:;<=>?@[\\\\]^_`{|}~\\t\\n',\n",
    "    lower=True,\n",
    "    split=' ',\n",
    "    char_level=False,\n",
    "    oov_token='unknown'\n",
    ")\n",
    "\n",
    "tokenizer.fit_on_texts([all_diseases_description])\n",
    "items = list(tokenizer.word_index.items())\n",
    "print(items[:100])\n",
    "print(\"Размер словаря\", len(items)) # Длина словаря"
   ]
  },
  {
   "cell_type": "code",
   "execution_count": 7,
   "id": "224d8848",
   "metadata": {},
   "outputs": [
    {
     "data": {
      "text/plain": [
       "878"
      ]
     },
     "execution_count": 7,
     "metadata": {},
     "output_type": "execute_result"
    }
   ],
   "source": [
    "tokenizer.word_index['язв']"
   ]
  },
  {
   "cell_type": "markdown",
   "id": "cf2ecf10",
   "metadata": {},
   "source": [
    "### Преобразование данных"
   ]
  },
  {
   "cell_type": "code",
   "execution_count": 8,
   "id": "855bf1d2",
   "metadata": {},
   "outputs": [],
   "source": [
    "# Формирование обучающей выборки по листу индексов слов\n",
    "# (разделение на короткие векторы)\n",
    "def getSetFromIndexes(wordIndexes, xLen, step): # функция принимает последовательность индексов, размер окна, шаг окна\n",
    "    xSample = [] # Объявляем переменную для векторов\n",
    "    wordsLen = len(wordIndexes) # Считаем количество слов\n",
    "    index = 0 # Задаем начальный индекс \n",
    "\n",
    "    while (index + xLen <= wordsLen):# Идём по всей длине вектора индексов\n",
    "        xSample.append(wordIndexes[index:index+xLen]) # \"Откусываем\" векторы длины xLen\n",
    "        index += step # Смещаеммся вперёд на step\n",
    "    \n",
    "    return xSample"
   ]
  },
  {
   "cell_type": "code",
   "execution_count": 9,
   "id": "ec50b519",
   "metadata": {},
   "outputs": [],
   "source": [
    "# Формирование обучающей и проверочной выборки\n",
    "# Из двух листов индексов от двух классов\n",
    "def createSetsMultiClasses(wordIndexes, xLen, step): # Функция принимает последовательность индексов, размер окна, шаг окна\n",
    "\n",
    "    # Для каждого из 6 классов\n",
    "    # Создаём обучающую/проверочную выборку из индексов\n",
    "    nClasses = len(wordIndexes) # Задаем количество классов выборки\n",
    "    classesXSamples = []        # Здесь будет список размером \"кол-во классов*кол-во окон в тексте*длину окна (например, 6 по 1341*1000)\"\n",
    "    for wI in wordIndexes:      # Для каждого текста выборки из последовательности индексов\n",
    "        classesXSamples.append(getSetFromIndexes(wI, xLen, step)) # Добавляем в список очередной текст индексов, разбитый на \"кол-во окон*длину окна\" \n",
    "\n",
    "    # Формируем один общий xSamples\n",
    "    xSamples = [] # Здесь будет список размером \"суммарное кол-во окон во всех текстах*длину окна (например, 15779*1000)\"\n",
    "    ySamples = [] # Здесь будет список размером \"суммарное кол-во окон во всех текстах*вектор длиной 6\"\n",
    "\n",
    "    for t in range(nClasses): # В диапазоне кол-ва классов(6)\n",
    "        xT = classesXSamples[t] # Берем очередной текст вида \"кол-во окон в тексте*длину окна\"(например, 1341*1000)\n",
    "        for i in range(len(xT)): # И каждое его окно\n",
    "            xSamples.append(xT[i]) # Добавляем в общий список выборки\n",
    "            ySamples.append(utils.to_categorical(t, nClasses)) # Добавляем соответствующий вектор класса\n",
    "\n",
    "    xSamples = np.array(xSamples) # Переводим в массив numpy для подачи в нейронку\n",
    "    ySamples = np.array(ySamples) # Переводим в массив numpy для подачи в нейронку\n",
    "\n",
    "  \n",
    "    return (xSamples, ySamples) #Функция возвращает выборку и соответствующие векторы классов"
   ]
  },
  {
   "cell_type": "code",
   "execution_count": 10,
   "id": "e8cfa10a",
   "metadata": {},
   "outputs": [],
   "source": [
    "#Задаём базовые параметры\n",
    "xLen = 50 #Длина отрезка текста, по которой анализируем, в словах\n",
    "step = 5 #Шаг разбиения исходного текста на обучающие векторы"
   ]
  },
  {
   "cell_type": "code",
   "execution_count": 11,
   "id": "b36461ed",
   "metadata": {},
   "outputs": [],
   "source": [
    "df['sequences_description'] = df['disease_description'].apply(lambda x: tokenizer.texts_to_sequences([x]))"
   ]
  },
  {
   "cell_type": "code",
   "execution_count": 12,
   "id": "cac33e4b",
   "metadata": {},
   "outputs": [
    {
     "data": {
      "text/html": [
       "<div>\n",
       "<style scoped>\n",
       "    .dataframe tbody tr th:only-of-type {\n",
       "        vertical-align: middle;\n",
       "    }\n",
       "\n",
       "    .dataframe tbody tr th {\n",
       "        vertical-align: top;\n",
       "    }\n",
       "\n",
       "    .dataframe thead th {\n",
       "        text-align: right;\n",
       "    }\n",
       "</style>\n",
       "<table border=\"1\" class=\"dataframe\">\n",
       "  <thead>\n",
       "    <tr style=\"text-align: right;\">\n",
       "      <th></th>\n",
       "      <th>disease_name</th>\n",
       "      <th>disease_description</th>\n",
       "      <th>sequences_description</th>\n",
       "    </tr>\n",
       "  </thead>\n",
       "  <tbody>\n",
       "    <tr>\n",
       "      <th>0</th>\n",
       "      <td>Аппендицит</td>\n",
       "      <td>Резкая боль в животе Повышение температуры Нап...</td>\n",
       "      <td>[[99, 4, 2, 11, 25, 26, 879, 211, 5, 100, 4, 2...</td>\n",
       "    </tr>\n",
       "    <tr>\n",
       "      <th>1</th>\n",
       "      <td>Гастрит</td>\n",
       "      <td>ГАСТРИТ СИМПТОМЫ  диспепсии (тяжесть и чувство...</td>\n",
       "      <td>[[592, 130, 334, 66, 3, 43, 101, 593, 2, 160, ...</td>\n",
       "    </tr>\n",
       "    <tr>\n",
       "      <th>2</th>\n",
       "      <td>Гепатит</td>\n",
       "      <td>Желтуха начало гепатита напоминает грипп: повы...</td>\n",
       "      <td>[[133, 1008, 1009, 1010, 1011, 25, 26, 19, 97,...</td>\n",
       "    </tr>\n",
       "    <tr>\n",
       "      <th>3</th>\n",
       "      <td>Дуоденит</td>\n",
       "      <td>боль в эпигастральной области, тошнота, рвота,...</td>\n",
       "      <td>[[4, 2, 45, 13, 5, 7, 44, 16, 86, 10, 173, 2, ...</td>\n",
       "    </tr>\n",
       "    <tr>\n",
       "      <th>4</th>\n",
       "      <td>Колит</td>\n",
       "      <td>постоянные позывы на дефекацию, урчание, вздут...</td>\n",
       "      <td>[[295, 54, 30, 202, 47, 21, 9, 1149, 52, 31, 1...</td>\n",
       "    </tr>\n",
       "    <tr>\n",
       "      <th>5</th>\n",
       "      <td>Панкреатит</td>\n",
       "      <td>Боль при панкреатите обычно очень интенсивн...</td>\n",
       "      <td>[[4, 10, 308, 91, 116, 1304, 85, 83, 425, 331,...</td>\n",
       "    </tr>\n",
       "    <tr>\n",
       "      <th>6</th>\n",
       "      <td>Холицестит</td>\n",
       "      <td>тупая, ноющая боль в области правого подреберь...</td>\n",
       "      <td>[[153, 112, 4, 2, 13, 313, 393, 1615, 106, 6, ...</td>\n",
       "    </tr>\n",
       "    <tr>\n",
       "      <th>7</th>\n",
       "      <td>Эзофагит</td>\n",
       "      <td>затруднения и болезненные ощущения при глотани...</td>\n",
       "      <td>[[544, 3, 178, 51, 10, 208, 20, 8, 18, 27, 51,...</td>\n",
       "    </tr>\n",
       "    <tr>\n",
       "      <th>8</th>\n",
       "      <td>Энтерит</td>\n",
       "      <td>внезапныые боли (преимущественно в середине жи...</td>\n",
       "      <td>[[1, 8, 414, 2, 858, 9, 7, 52, 25, 26, 130, 39...</td>\n",
       "    </tr>\n",
       "    <tr>\n",
       "      <th>9</th>\n",
       "      <td>Язва</td>\n",
       "      <td>боль, часто локализованная в эпигастрии и умен...</td>\n",
       "      <td>[[4, 72, 699, 2, 64, 3, 1, 12, 28, 6, 553, 4, ...</td>\n",
       "    </tr>\n",
       "  </tbody>\n",
       "</table>\n",
       "</div>"
      ],
      "text/plain": [
       "  disease_name                                disease_description  \\\n",
       "0   Аппендицит  Резкая боль в животе Повышение температуры Нап...   \n",
       "1      Гастрит  ГАСТРИТ СИМПТОМЫ  диспепсии (тяжесть и чувство...   \n",
       "2      Гепатит  Желтуха начало гепатита напоминает грипп: повы...   \n",
       "3     Дуоденит  боль в эпигастральной области, тошнота, рвота,...   \n",
       "4        Колит  постоянные позывы на дефекацию, урчание, вздут...   \n",
       "5   Панкреатит     Боль при панкреатите обычно очень интенсивн...   \n",
       "6   Холицестит  тупая, ноющая боль в области правого подреберь...   \n",
       "7     Эзофагит  затруднения и болезненные ощущения при глотани...   \n",
       "8      Энтерит  внезапныые боли (преимущественно в середине жи...   \n",
       "9         Язва  боль, часто локализованная в эпигастрии и умен...   \n",
       "\n",
       "                               sequences_description  \n",
       "0  [[99, 4, 2, 11, 25, 26, 879, 211, 5, 100, 4, 2...  \n",
       "1  [[592, 130, 334, 66, 3, 43, 101, 593, 2, 160, ...  \n",
       "2  [[133, 1008, 1009, 1010, 1011, 25, 26, 19, 97,...  \n",
       "3  [[4, 2, 45, 13, 5, 7, 44, 16, 86, 10, 173, 2, ...  \n",
       "4  [[295, 54, 30, 202, 47, 21, 9, 1149, 52, 31, 1...  \n",
       "5  [[4, 10, 308, 91, 116, 1304, 85, 83, 425, 331,...  \n",
       "6  [[153, 112, 4, 2, 13, 313, 393, 1615, 106, 6, ...  \n",
       "7  [[544, 3, 178, 51, 10, 208, 20, 8, 18, 27, 51,...  \n",
       "8  [[1, 8, 414, 2, 858, 9, 7, 52, 25, 26, 130, 39...  \n",
       "9  [[4, 72, 699, 2, 64, 3, 1, 12, 28, 6, 553, 4, ...  "
      ]
     },
     "execution_count": 12,
     "metadata": {},
     "output_type": "execute_result"
    }
   ],
   "source": [
    "df"
   ]
  },
  {
   "cell_type": "markdown",
   "id": "4f906ad2",
   "metadata": {},
   "source": [
    "### Проверка распределения"
   ]
  },
  {
   "cell_type": "markdown",
   "id": "0901a59f",
   "metadata": {},
   "source": [
    "Теперь, что бы убедится, что все коныертировалось верно, проверю матрицу"
   ]
  },
  {
   "cell_type": "code",
   "execution_count": 13,
   "id": "066667e6",
   "metadata": {},
   "outputs": [
    {
     "data": {
      "text/plain": [
       "True"
      ]
     },
     "execution_count": 13,
     "metadata": {},
     "output_type": "execute_result"
    }
   ],
   "source": [
    "'язв' in tokenizer.sequences_to_texts(df['sequences_description'][9])[0].split(' ')"
   ]
  },
  {
   "cell_type": "code",
   "execution_count": 14,
   "id": "cf5694b0",
   "metadata": {},
   "outputs": [
    {
     "name": "stdout",
     "output_type": "stream",
     "text": [
      "(10, 800)\n"
     ]
    }
   ],
   "source": [
    "maxlen = 800\n",
    "#Формируем матрицу индексов по принципу Bag of Words\n",
    "xAll =  [x[0] for x in df['sequences_description'].values]#Каждое слово из текста нашло свой индекс в векторе длиной maxWordsCount и отметилось в нем единичкой \n",
    "xAll = pad_sequences(xAll, maxlen=maxlen, padding='pre', truncating='pre') #Преобразуем входные векторы\n",
    "print(xAll.shape)  #Посмотрим на форму текстов"
   ]
  },
  {
   "cell_type": "code",
   "execution_count": 15,
   "id": "6a70b172",
   "metadata": {},
   "outputs": [
    {
     "name": "stdout",
     "output_type": "stream",
     "text": [
      "(1510, 50)\n",
      "(1510, 10)\n"
     ]
    }
   ],
   "source": [
    "#Формируем обучающую выборку\n",
    "xTrain, yTrain = createSetsMultiClasses(xAll, xLen, step) #извлекаем обучающую выборку\n",
    "print(xTrain.shape)\n",
    "print(yTrain.shape)"
   ]
  },
  {
   "cell_type": "markdown",
   "id": "70345701",
   "metadata": {},
   "source": [
    "### Создание сети"
   ]
  },
  {
   "cell_type": "markdown",
   "id": "c42fb7ed",
   "metadata": {},
   "source": [
    "Dense - Стандартная сеть\n",
    "LSTM - Рекурентная\n",
    "Conv1D - Сверточная сетка\n"
   ]
  },
  {
   "cell_type": "code",
   "execution_count": 16,
   "id": "bde3c130",
   "metadata": {},
   "outputs": [
    {
     "ename": "ValueError",
     "evalue": "A `Concatenate` layer requires inputs with matching shapes except for the concatenation axis. Received: input_shape=[(None, 100), (None, 23, 100)]",
     "output_type": "error",
     "traceback": [
      "\u001b[1;31m---------------------------------------------------------------------------\u001b[0m",
      "\u001b[1;31mValueError\u001b[0m                                Traceback (most recent call last)",
      "Cell \u001b[1;32mIn[16], line 42\u001b[0m\n\u001b[0;32m     38\u001b[0m right \u001b[38;5;241m=\u001b[39m Dense(\u001b[38;5;241m100\u001b[39m, activation\u001b[38;5;241m=\u001b[39m\u001b[38;5;124m'\u001b[39m\u001b[38;5;124mrelu\u001b[39m\u001b[38;5;124m'\u001b[39m) (right)\n\u001b[0;32m     41\u001b[0m \u001b[38;5;66;03m# Объединяем скрытые слои в один\u001b[39;00m\n\u001b[1;32m---> 42\u001b[0m merged \u001b[38;5;241m=\u001b[39m \u001b[43mconcatenate\u001b[49m\u001b[43m(\u001b[49m\u001b[43m[\u001b[49m\u001b[43mleft\u001b[49m\u001b[43m,\u001b[49m\u001b[43m \u001b[49m\u001b[43mright\u001b[49m\u001b[43m]\u001b[49m\u001b[43m)\u001b[49m\n\u001b[0;32m     43\u001b[0m output \u001b[38;5;241m=\u001b[39m Flatten() (merged)\n\u001b[0;32m     44\u001b[0m output \u001b[38;5;241m=\u001b[39m Dense(yAll\u001b[38;5;241m.\u001b[39mshape[\u001b[38;5;241m0\u001b[39m], activation\u001b[38;5;241m=\u001b[39m\u001b[38;5;124m'\u001b[39m\u001b[38;5;124msoftmax\u001b[39m\u001b[38;5;124m'\u001b[39m)(merged)\n",
      "File \u001b[1;32mC:\\ProgramData\\anaconda3\\envs\\tf\\lib\\site-packages\\keras\\layers\\merging\\concatenate.py:231\u001b[0m, in \u001b[0;36mconcatenate\u001b[1;34m(inputs, axis, **kwargs)\u001b[0m\n\u001b[0;32m    199\u001b[0m \u001b[38;5;129m@keras_export\u001b[39m(\u001b[38;5;124m\"\u001b[39m\u001b[38;5;124mkeras.layers.concatenate\u001b[39m\u001b[38;5;124m\"\u001b[39m)\n\u001b[0;32m    200\u001b[0m \u001b[38;5;28;01mdef\u001b[39;00m \u001b[38;5;21mconcatenate\u001b[39m(inputs, axis\u001b[38;5;241m=\u001b[39m\u001b[38;5;241m-\u001b[39m\u001b[38;5;241m1\u001b[39m, \u001b[38;5;241m*\u001b[39m\u001b[38;5;241m*\u001b[39mkwargs):\n\u001b[0;32m    201\u001b[0m \u001b[38;5;250m    \u001b[39m\u001b[38;5;124;03m\"\"\"Functional interface to the `Concatenate` layer.\u001b[39;00m\n\u001b[0;32m    202\u001b[0m \n\u001b[0;32m    203\u001b[0m \u001b[38;5;124;03m    >>> x = np.arange(20).reshape(2, 2, 5)\u001b[39;00m\n\u001b[1;32m   (...)\u001b[0m\n\u001b[0;32m    229\u001b[0m \u001b[38;5;124;03m        A tensor, the concatenation of the inputs alongside axis `axis`.\u001b[39;00m\n\u001b[0;32m    230\u001b[0m \u001b[38;5;124;03m    \"\"\"\u001b[39;00m\n\u001b[1;32m--> 231\u001b[0m     \u001b[38;5;28;01mreturn\u001b[39;00m \u001b[43mConcatenate\u001b[49m\u001b[43m(\u001b[49m\u001b[43maxis\u001b[49m\u001b[38;5;241;43m=\u001b[39;49m\u001b[43maxis\u001b[49m\u001b[43m,\u001b[49m\u001b[43m \u001b[49m\u001b[38;5;241;43m*\u001b[39;49m\u001b[38;5;241;43m*\u001b[39;49m\u001b[43mkwargs\u001b[49m\u001b[43m)\u001b[49m\u001b[43m(\u001b[49m\u001b[43minputs\u001b[49m\u001b[43m)\u001b[49m\n",
      "File \u001b[1;32mC:\\ProgramData\\anaconda3\\envs\\tf\\lib\\site-packages\\keras\\utils\\traceback_utils.py:70\u001b[0m, in \u001b[0;36mfilter_traceback.<locals>.error_handler\u001b[1;34m(*args, **kwargs)\u001b[0m\n\u001b[0;32m     67\u001b[0m     filtered_tb \u001b[38;5;241m=\u001b[39m _process_traceback_frames(e\u001b[38;5;241m.\u001b[39m__traceback__)\n\u001b[0;32m     68\u001b[0m     \u001b[38;5;66;03m# To get the full stack trace, call:\u001b[39;00m\n\u001b[0;32m     69\u001b[0m     \u001b[38;5;66;03m# `tf.debugging.disable_traceback_filtering()`\u001b[39;00m\n\u001b[1;32m---> 70\u001b[0m     \u001b[38;5;28;01mraise\u001b[39;00m e\u001b[38;5;241m.\u001b[39mwith_traceback(filtered_tb) \u001b[38;5;28;01mfrom\u001b[39;00m \u001b[38;5;28;01mNone\u001b[39;00m\n\u001b[0;32m     71\u001b[0m \u001b[38;5;28;01mfinally\u001b[39;00m:\n\u001b[0;32m     72\u001b[0m     \u001b[38;5;28;01mdel\u001b[39;00m filtered_tb\n",
      "File \u001b[1;32mC:\\ProgramData\\anaconda3\\envs\\tf\\lib\\site-packages\\keras\\layers\\merging\\concatenate.py:119\u001b[0m, in \u001b[0;36mConcatenate.build\u001b[1;34m(self, input_shape)\u001b[0m\n\u001b[0;32m    117\u001b[0m ranks \u001b[38;5;241m=\u001b[39m \u001b[38;5;28mset\u001b[39m(\u001b[38;5;28mlen\u001b[39m(shape) \u001b[38;5;28;01mfor\u001b[39;00m shape \u001b[38;5;129;01min\u001b[39;00m shape_set)\n\u001b[0;32m    118\u001b[0m \u001b[38;5;28;01mif\u001b[39;00m \u001b[38;5;28mlen\u001b[39m(ranks) \u001b[38;5;241m!=\u001b[39m \u001b[38;5;241m1\u001b[39m:\n\u001b[1;32m--> 119\u001b[0m     \u001b[38;5;28;01mraise\u001b[39;00m \u001b[38;5;167;01mValueError\u001b[39;00m(err_msg)\n\u001b[0;32m    120\u001b[0m \u001b[38;5;66;03m# Get the only rank for the set.\u001b[39;00m\n\u001b[0;32m    121\u001b[0m (rank,) \u001b[38;5;241m=\u001b[39m ranks\n",
      "\u001b[1;31mValueError\u001b[0m: A `Concatenate` layer requires inputs with matching shapes except for the concatenation axis. Received: input_shape=[(None, 100), (None, 23, 100)]"
     ]
    }
   ],
   "source": [
    "from tensorflow.keras import Input\n",
    "from tensorflow.keras.models import Model\n",
    "\n",
    "input_layer = Input(shape = (50, ))\n",
    "\n",
    "# Левая ветка\n",
    "left = Embedding(max_words_count, 16, input_length=maxlen) (input_layer)\n",
    "left = SpatialDropout1D(0.4) (left)\n",
    "left = BatchNormalization() (left)\n",
    "\n",
    "left = LSTM(12, return_sequences=True) (left)\n",
    "left = Bidirectional(LSTM(6, return_sequences=True)) (left)\n",
    "\n",
    "left = Conv1D(12, 4, activation='relu') (left)\n",
    "left = MaxPooling1D(2) (left)\n",
    "left = BatchNormalization() (left)\n",
    "left = Conv1D(6, 4, activation='relu') (left)\n",
    "left = MaxPooling1D(2) (left)\n",
    "left = BatchNormalization() (left)\n",
    "left = Dropout(0.2) (left)\n",
    "\n",
    "left = GlobalMaxPooling1D() (left)\n",
    "left = Dense(100, activation='relu') (left)\n",
    "\n",
    "\n",
    "\n",
    "# Правая ветка\n",
    "right = Embedding(max_words_count, 16, input_length=maxlen) (input_layer)\n",
    "right = SpatialDropout1D(0.4) (right)\n",
    "right = BatchNormalization() (right)\n",
    "\n",
    "right = Conv1D(6, 4, activation='relu') (right)\n",
    "right = MaxPooling1D(2) (right)\n",
    "right = BatchNormalization() (right)\n",
    "right = Dropout(0.2) (right)\n",
    "\n",
    "right = LSTM(12, return_sequences=True) (right)\n",
    "right = Dense(100, activation='relu') (right)\n",
    "\n",
    "\n",
    "# Объединяем скрытые слои в один\n",
    "merged = concatenate([left, right])\n",
    "output = Flatten() (merged)\n",
    "output = Dense(yAll.shape[0], activation='softmax')(merged)\n",
    "\n",
    "# Создание модели\n",
    "model = Model(inputs=input_layer, outputs=output)"
   ]
  },
  {
   "cell_type": "code",
   "execution_count": null,
   "id": "e395c4fa",
   "metadata": {},
   "outputs": [],
   "source": []
  },
  {
   "cell_type": "code",
   "execution_count": null,
   "id": "d79b8a63",
   "metadata": {},
   "outputs": [],
   "source": []
  },
  {
   "cell_type": "code",
   "execution_count": null,
   "id": "b50176cf",
   "metadata": {},
   "outputs": [],
   "source": []
  }
 ],
 "metadata": {
  "kernelspec": {
   "display_name": "Python 3 (ipykernel)",
   "language": "python",
   "name": "python3"
  },
  "language_info": {
   "codemirror_mode": {
    "name": "ipython",
    "version": 3
   },
   "file_extension": ".py",
   "mimetype": "text/x-python",
   "name": "python",
   "nbconvert_exporter": "python",
   "pygments_lexer": "ipython3",
   "version": "3.9.17"
  }
 },
 "nbformat": 4,
 "nbformat_minor": 5
}
