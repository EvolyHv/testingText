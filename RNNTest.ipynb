{
 "cells": [
  {
   "cell_type": "code",
   "execution_count": 1,
   "id": "359ee407",
   "metadata": {},
   "outputs": [],
   "source": [
    "# Базовые библиоткеи\n",
    "import os\n",
    "import numpy as np\n",
    "import pandas as pd\n",
    "import matplotlib.pyplot as plt\n",
    "%matplotlib inline\n",
    "\n",
    "from tensorflow.keras.models import Sequential\n",
    "# Стандартные слои\n",
    "from tensorflow.keras.layers import Dense, Dropout, BatchNormalization, Embedding, Flatten, Activation\n",
    "# Сверточные слои\n",
    "from tensorflow.keras.layers import Conv1D, SpatialDropout1D, MaxPooling1D, GlobalAveragePooling1D,  GlobalMaxPooling1D\n",
    "# Рекурентные слои\n",
    "from tensorflow.keras.layers import LSTM, GRU, SimpleRNN,  Bidirectional, concatenate\n",
    "# Алгоритмы обучения\\оптимизации\n",
    "from tensorflow.keras.optimizers import Adam, RMSprop\n",
    "\n",
    "# Инструменты предобработки текста\n",
    "from tensorflow.keras import utils\n",
    "from sklearn.model_selection import train_test_split\n",
    "from tensorflow.keras.preprocessing.sequence import pad_sequences\n",
    "from keras.preprocessing.text import Tokenizer, text_to_word_sequence"
   ]
  },
  {
   "cell_type": "markdown",
   "id": "e9766fa2",
   "metadata": {},
   "source": [
    "### Загрузка данных<br>\n",
    "Перед началом работы, данные неоюходимо импортировать, сделать это можно при помощи стандартной библиотеки os, а для работы с данными можно использовать pandas"
   ]
  },
  {
   "cell_type": "code",
   "execution_count": 2,
   "id": "d8f11800",
   "metadata": {},
   "outputs": [
    {
     "data": {
      "text/plain": [
       "['Аппендицит',\n",
       " 'Гастрит',\n",
       " 'Гепатит',\n",
       " 'Дуоденит',\n",
       " 'Колит',\n",
       " 'Панкреатит',\n",
       " 'Холицестит',\n",
       " 'Эзофагит',\n",
       " 'Энтерит',\n",
       " 'Язва']"
      ]
     },
     "execution_count": 2,
     "metadata": {},
     "output_type": "execute_result"
    }
   ],
   "source": [
    "path = 'база болезней/'\n",
    "# При помощи простого выражения (list comprehension) можно создать список из всех болезней\n",
    "diseases_names = [x.split('.')[0] for x in os.listdir(path)]\n",
    "diseases_names"
   ]
  },
  {
   "cell_type": "code",
   "execution_count": 3,
   "id": "a93dcd2b",
   "metadata": {},
   "outputs": [],
   "source": [
    "# Создание набора данных (DataFrmae)\n",
    "df = pd.DataFrame(columns=['disease_name', 'disease_description'])\n",
    "# При помощи цикла проходимся по списку\n",
    "for disease in diseases_names:\n",
    "    # Открываем каждый файл для чтения\n",
    "    with open(path+disease+'.txt', mode='r', encoding='utf-8-sig') as f:\n",
    "        current_disease = f.read()\n",
    "        # Добавление названия болещни и ее описания в набор данных\n",
    "        df = pd.concat([df, pd.DataFrame({'disease_name':[disease], 'disease_description':[current_disease]})], ignore_index=True)"
   ]
  },
  {
   "cell_type": "code",
   "execution_count": 4,
   "id": "4d7944d6",
   "metadata": {},
   "outputs": [
    {
     "data": {
      "text/html": [
       "<div>\n",
       "<style scoped>\n",
       "    .dataframe tbody tr th:only-of-type {\n",
       "        vertical-align: middle;\n",
       "    }\n",
       "\n",
       "    .dataframe tbody tr th {\n",
       "        vertical-align: top;\n",
       "    }\n",
       "\n",
       "    .dataframe thead th {\n",
       "        text-align: right;\n",
       "    }\n",
       "</style>\n",
       "<table border=\"1\" class=\"dataframe\">\n",
       "  <thead>\n",
       "    <tr style=\"text-align: right;\">\n",
       "      <th></th>\n",
       "      <th>disease_name</th>\n",
       "      <th>disease_description</th>\n",
       "    </tr>\n",
       "  </thead>\n",
       "  <tbody>\n",
       "    <tr>\n",
       "      <th>0</th>\n",
       "      <td>Аппендицит</td>\n",
       "      <td>Резкая боль в животе Повышение температуры Нап...</td>\n",
       "    </tr>\n",
       "    <tr>\n",
       "      <th>1</th>\n",
       "      <td>Гастрит</td>\n",
       "      <td>ГАСТРИТ СИМПТОМЫ  диспепсии (тяжесть и чувство...</td>\n",
       "    </tr>\n",
       "    <tr>\n",
       "      <th>2</th>\n",
       "      <td>Гепатит</td>\n",
       "      <td>Желтуха начало гепатита напоминает грипп: повы...</td>\n",
       "    </tr>\n",
       "    <tr>\n",
       "      <th>3</th>\n",
       "      <td>Дуоденит</td>\n",
       "      <td>боль в эпигастральной области, тошнота, рвота,...</td>\n",
       "    </tr>\n",
       "    <tr>\n",
       "      <th>4</th>\n",
       "      <td>Колит</td>\n",
       "      <td>постоянные позывы на дефекацию, урчание, вздут...</td>\n",
       "    </tr>\n",
       "    <tr>\n",
       "      <th>5</th>\n",
       "      <td>Панкреатит</td>\n",
       "      <td>Боль при панкреатите обычно очень интенсивн...</td>\n",
       "    </tr>\n",
       "    <tr>\n",
       "      <th>6</th>\n",
       "      <td>Холицестит</td>\n",
       "      <td>тупая, ноющая боль в области правого подреберь...</td>\n",
       "    </tr>\n",
       "    <tr>\n",
       "      <th>7</th>\n",
       "      <td>Эзофагит</td>\n",
       "      <td>затруднения и болезненные ощущения при глотани...</td>\n",
       "    </tr>\n",
       "    <tr>\n",
       "      <th>8</th>\n",
       "      <td>Энтерит</td>\n",
       "      <td>внезапныые боли (преимущественно в середине жи...</td>\n",
       "    </tr>\n",
       "    <tr>\n",
       "      <th>9</th>\n",
       "      <td>Язва</td>\n",
       "      <td>боль, часто локализованная в эпигастрии и умен...</td>\n",
       "    </tr>\n",
       "  </tbody>\n",
       "</table>\n",
       "</div>"
      ],
      "text/plain": [
       "  disease_name                                disease_description\n",
       "0   Аппендицит  Резкая боль в животе Повышение температуры Нап...\n",
       "1      Гастрит  ГАСТРИТ СИМПТОМЫ  диспепсии (тяжесть и чувство...\n",
       "2      Гепатит  Желтуха начало гепатита напоминает грипп: повы...\n",
       "3     Дуоденит  боль в эпигастральной области, тошнота, рвота,...\n",
       "4        Колит  постоянные позывы на дефекацию, урчание, вздут...\n",
       "5   Панкреатит     Боль при панкреатите обычно очень интенсивн...\n",
       "6   Холицестит  тупая, ноющая боль в области правого подреберь...\n",
       "7     Эзофагит  затруднения и болезненные ощущения при глотани...\n",
       "8      Энтерит  внезапныые боли (преимущественно в середине жи...\n",
       "9         Язва  боль, часто локализованная в эпигастрии и умен..."
      ]
     },
     "execution_count": 4,
     "metadata": {},
     "output_type": "execute_result"
    }
   ],
   "source": [
    "# Удаление лишних символов переноса строки\n",
    "df['disease_description'] = df['disease_description'].apply(lambda x: x.replace('\\n', ' '))\n",
    "df"
   ]
  },
  {
   "cell_type": "code",
   "execution_count": 5,
   "id": "e2562c2c",
   "metadata": {},
   "outputs": [],
   "source": [
    "all_diseases_description = ' '.join(df['disease_description'].values)"
   ]
  },
  {
   "cell_type": "markdown",
   "id": "926681c1",
   "metadata": {},
   "source": [
    "### Обучение токенизатора"
   ]
  },
  {
   "cell_type": "code",
   "execution_count": 6,
   "id": "a3ae1954",
   "metadata": {},
   "outputs": [
    {
     "name": "stdout",
     "output_type": "stream",
     "text": [
      "[('unknown', 1), ('в', 2), ('и', 3), ('боль', 4), ('тошнота', 5), ('или', 6), ('рвота', 7), ('боли', 8), ('живота', 9), ('при', 10), ('животе', 11), ('после', 12), ('области', 13), ('отрыжка', 14), ('с', 15), ('слабость', 16), ('аппетита', 17), ('во', 18), ('тела', 19), ('изжога', 20), ('вздутие', 21), ('может', 22), ('снижение', 23), ('пищи', 24), ('повышение', 25), ('температуры', 26), ('рту', 27), ('еды', 28), ('диарея', 29), ('на', 30), ('иногда', 31), ('до', 32), ('к', 33), ('метеоризм', 34), ('температура', 35), ('подреберье', 36), ('верхней', 37), ('части', 38), ('не', 39), ('правом', 40), ('стул', 41), ('потеря', 42), ('чувство', 43), ('общая', 44), ('эпигастральной', 45), ('желудка', 46), ('урчание', 47), ('–', 48), ('ощущение', 49), ('отсутствие', 50), ('ощущения', 51), ('понос', 52), ('нарушение', 53), ('позывы', 54), ('тяжести', 55), ('которая', 56), ('запор', 57), ('время', 58), ('приема', 59), ('кожи', 60), ('могут', 61), ('появление', 62), ('повышенная', 63), ('эпигастрии', 64), ('стула', 65), ('тяжесть', 66), ('неприятный', 67), ('за', 68), ('крови', 69), ('—', 70), ('повышенное', 71), ('часто', 72), ('сухость', 73), ('особенно', 74), ('массы', 75), ('лихорадка', 76), ('дефекации', 77), ('быть', 78), ('слизи', 79), ('запоры', 80), ('по', 81), ('утомляемость', 82), ('характер', 83), ('от', 84), ('постоянная', 85), ('болезненность', 86), ('нарушения', 87), ('кислым', 88), ('под', 89), ('пупка', 90), ('обычно', 91), ('как', 92), ('веса', 93), ('головокружение', 94), ('со', 95), ('у', 96), ('головная', 97), ('примесью', 98), ('резкая', 99), ('острая', 100)]\n",
      "Размер словаря 1999\n"
     ]
    }
   ],
   "source": [
    "max_words_count = 1800\n",
    "tokenizer = Tokenizer(num_words=max_words_count,\n",
    "    filters='!\"#$%&()*+,-./:;<=>?@[\\\\]^_`{|}~\\t\\n',\n",
    "    lower=True,\n",
    "    split=' ',\n",
    "    char_level=False,\n",
    "    oov_token='unknown'\n",
    ")\n",
    "\n",
    "tokenizer.fit_on_texts([all_diseases_description])\n",
    "items = list(tokenizer.word_index.items())\n",
    "print(items[:100])\n",
    "print(\"Размер словаря\", len(items)) # Длина словаря"
   ]
  },
  {
   "cell_type": "code",
   "execution_count": 7,
   "id": "25cf51f4",
   "metadata": {},
   "outputs": [
    {
     "data": {
      "text/plain": [
       "878"
      ]
     },
     "execution_count": 7,
     "metadata": {},
     "output_type": "execute_result"
    }
   ],
   "source": [
    "tokenizer.word_index['язв']"
   ]
  },
  {
   "cell_type": "markdown",
   "id": "ecac6770",
   "metadata": {},
   "source": [
    "### Преобразование данных"
   ]
  },
  {
   "cell_type": "code",
   "execution_count": 8,
   "id": "1680357f",
   "metadata": {},
   "outputs": [],
   "source": [
    "# Формирование обучающей выборки по листу индексов слов\n",
    "# (разделение на короткие векторы)\n",
    "def getSetFromIndexes(wordIndexes, xLen, step): # функция принимает последовательность индексов, размер окна, шаг окна\n",
    "    xSample = [] # Объявляем переменную для векторов\n",
    "    wordsLen = len(wordIndexes) # Считаем количество слов\n",
    "    index = 0 # Задаем начальный индекс \n",
    "\n",
    "    while (index + xLen <= wordsLen):# Идём по всей длине вектора индексов\n",
    "        xSample.append(wordIndexes[index:index+xLen]) # \"Откусываем\" векторы длины xLen\n",
    "        index += step # Смещаеммся вперёд на step\n",
    "    \n",
    "    return xSample"
   ]
  },
  {
   "cell_type": "code",
   "execution_count": 9,
   "id": "898aec68",
   "metadata": {},
   "outputs": [],
   "source": [
    "# Формирование обучающей и проверочной выборки\n",
    "# Из двух листов индексов от двух классов\n",
    "def createSetsMultiClasses(wordIndexes, xLen, step): # Функция принимает последовательность индексов, размер окна, шаг окна\n",
    "\n",
    "    # Для каждого из 6 классов\n",
    "    # Создаём обучающую/проверочную выборку из индексов\n",
    "    nClasses = len(wordIndexes) # Задаем количество классов выборки\n",
    "    classesXSamples = []        # Здесь будет список размером \"кол-во классов*кол-во окон в тексте*длину окна (например, 6 по 1341*1000)\"\n",
    "    for wI in wordIndexes:      # Для каждого текста выборки из последовательности индексов\n",
    "        classesXSamples.append(getSetFromIndexes(wI, xLen, step)) # Добавляем в список очередной текст индексов, разбитый на \"кол-во окон*длину окна\" \n",
    "\n",
    "    # Формируем один общий xSamples\n",
    "    xSamples = [] # Здесь будет список размером \"суммарное кол-во окон во всех текстах*длину окна (например, 15779*1000)\"\n",
    "    ySamples = [] # Здесь будет список размером \"суммарное кол-во окон во всех текстах*вектор длиной 6\"\n",
    "\n",
    "    for t in range(nClasses): # В диапазоне кол-ва классов(6)\n",
    "        xT = classesXSamples[t] # Берем очередной текст вида \"кол-во окон в тексте*длину окна\"(например, 1341*1000)\n",
    "        for i in range(len(xT)): # И каждое его окно\n",
    "            xSamples.append(xT[i]) # Добавляем в общий список выборки\n",
    "            ySamples.append(utils.to_categorical(t, nClasses)) # Добавляем соответствующий вектор класса\n",
    "\n",
    "    xSamples = np.array(xSamples) # Переводим в массив numpy для подачи в нейронку\n",
    "    ySamples = np.array(ySamples) # Переводим в массив numpy для подачи в нейронку\n",
    "\n",
    "  \n",
    "    return (xSamples, ySamples) #Функция возвращает выборку и соответствующие векторы классов"
   ]
  },
  {
   "cell_type": "code",
   "execution_count": 10,
   "id": "08d4a2c6",
   "metadata": {},
   "outputs": [],
   "source": [
    "#Задаём базовые параметры\n",
    "xLen = 50 #Длина отрезка текста, по которой анализируем, в словах\n",
    "step = 5 #Шаг разбиения исходного текста на обучающие векторы"
   ]
  },
  {
   "cell_type": "code",
   "execution_count": 11,
   "id": "3a7bd587",
   "metadata": {},
   "outputs": [],
   "source": [
    "df['sequences_description'] = df['disease_description'].apply(lambda x: tokenizer.texts_to_sequences([x]))"
   ]
  },
  {
   "cell_type": "code",
   "execution_count": 12,
   "id": "dd3b293c",
   "metadata": {},
   "outputs": [
    {
     "data": {
      "text/html": [
       "<div>\n",
       "<style scoped>\n",
       "    .dataframe tbody tr th:only-of-type {\n",
       "        vertical-align: middle;\n",
       "    }\n",
       "\n",
       "    .dataframe tbody tr th {\n",
       "        vertical-align: top;\n",
       "    }\n",
       "\n",
       "    .dataframe thead th {\n",
       "        text-align: right;\n",
       "    }\n",
       "</style>\n",
       "<table border=\"1\" class=\"dataframe\">\n",
       "  <thead>\n",
       "    <tr style=\"text-align: right;\">\n",
       "      <th></th>\n",
       "      <th>disease_name</th>\n",
       "      <th>disease_description</th>\n",
       "      <th>sequences_description</th>\n",
       "    </tr>\n",
       "  </thead>\n",
       "  <tbody>\n",
       "    <tr>\n",
       "      <th>0</th>\n",
       "      <td>Аппендицит</td>\n",
       "      <td>Резкая боль в животе Повышение температуры Нап...</td>\n",
       "      <td>[[99, 4, 2, 11, 25, 26, 879, 211, 5, 100, 4, 2...</td>\n",
       "    </tr>\n",
       "    <tr>\n",
       "      <th>1</th>\n",
       "      <td>Гастрит</td>\n",
       "      <td>ГАСТРИТ СИМПТОМЫ  диспепсии (тяжесть и чувство...</td>\n",
       "      <td>[[592, 130, 334, 66, 3, 43, 101, 593, 2, 160, ...</td>\n",
       "    </tr>\n",
       "    <tr>\n",
       "      <th>2</th>\n",
       "      <td>Гепатит</td>\n",
       "      <td>Желтуха начало гепатита напоминает грипп: повы...</td>\n",
       "      <td>[[133, 1008, 1009, 1010, 1011, 25, 26, 19, 97,...</td>\n",
       "    </tr>\n",
       "    <tr>\n",
       "      <th>3</th>\n",
       "      <td>Дуоденит</td>\n",
       "      <td>боль в эпигастральной области, тошнота, рвота,...</td>\n",
       "      <td>[[4, 2, 45, 13, 5, 7, 44, 16, 86, 10, 173, 2, ...</td>\n",
       "    </tr>\n",
       "    <tr>\n",
       "      <th>4</th>\n",
       "      <td>Колит</td>\n",
       "      <td>постоянные позывы на дефекацию, урчание, вздут...</td>\n",
       "      <td>[[295, 54, 30, 202, 47, 21, 9, 1149, 52, 31, 1...</td>\n",
       "    </tr>\n",
       "    <tr>\n",
       "      <th>5</th>\n",
       "      <td>Панкреатит</td>\n",
       "      <td>Боль при панкреатите обычно очень интенсивн...</td>\n",
       "      <td>[[4, 10, 308, 91, 116, 1304, 85, 83, 425, 331,...</td>\n",
       "    </tr>\n",
       "    <tr>\n",
       "      <th>6</th>\n",
       "      <td>Холицестит</td>\n",
       "      <td>тупая, ноющая боль в области правого подреберь...</td>\n",
       "      <td>[[153, 112, 4, 2, 13, 313, 393, 1615, 106, 6, ...</td>\n",
       "    </tr>\n",
       "    <tr>\n",
       "      <th>7</th>\n",
       "      <td>Эзофагит</td>\n",
       "      <td>затруднения и болезненные ощущения при глотани...</td>\n",
       "      <td>[[544, 3, 178, 51, 10, 208, 20, 8, 18, 27, 51,...</td>\n",
       "    </tr>\n",
       "    <tr>\n",
       "      <th>8</th>\n",
       "      <td>Энтерит</td>\n",
       "      <td>внезапныые боли (преимущественно в середине жи...</td>\n",
       "      <td>[[1, 8, 414, 2, 858, 9, 7, 52, 25, 26, 130, 39...</td>\n",
       "    </tr>\n",
       "    <tr>\n",
       "      <th>9</th>\n",
       "      <td>Язва</td>\n",
       "      <td>боль, часто локализованная в эпигастрии и умен...</td>\n",
       "      <td>[[4, 72, 699, 2, 64, 3, 1, 12, 28, 6, 553, 4, ...</td>\n",
       "    </tr>\n",
       "  </tbody>\n",
       "</table>\n",
       "</div>"
      ],
      "text/plain": [
       "  disease_name                                disease_description  \\\n",
       "0   Аппендицит  Резкая боль в животе Повышение температуры Нап...   \n",
       "1      Гастрит  ГАСТРИТ СИМПТОМЫ  диспепсии (тяжесть и чувство...   \n",
       "2      Гепатит  Желтуха начало гепатита напоминает грипп: повы...   \n",
       "3     Дуоденит  боль в эпигастральной области, тошнота, рвота,...   \n",
       "4        Колит  постоянные позывы на дефекацию, урчание, вздут...   \n",
       "5   Панкреатит     Боль при панкреатите обычно очень интенсивн...   \n",
       "6   Холицестит  тупая, ноющая боль в области правого подреберь...   \n",
       "7     Эзофагит  затруднения и болезненные ощущения при глотани...   \n",
       "8      Энтерит  внезапныые боли (преимущественно в середине жи...   \n",
       "9         Язва  боль, часто локализованная в эпигастрии и умен...   \n",
       "\n",
       "                               sequences_description  \n",
       "0  [[99, 4, 2, 11, 25, 26, 879, 211, 5, 100, 4, 2...  \n",
       "1  [[592, 130, 334, 66, 3, 43, 101, 593, 2, 160, ...  \n",
       "2  [[133, 1008, 1009, 1010, 1011, 25, 26, 19, 97,...  \n",
       "3  [[4, 2, 45, 13, 5, 7, 44, 16, 86, 10, 173, 2, ...  \n",
       "4  [[295, 54, 30, 202, 47, 21, 9, 1149, 52, 31, 1...  \n",
       "5  [[4, 10, 308, 91, 116, 1304, 85, 83, 425, 331,...  \n",
       "6  [[153, 112, 4, 2, 13, 313, 393, 1615, 106, 6, ...  \n",
       "7  [[544, 3, 178, 51, 10, 208, 20, 8, 18, 27, 51,...  \n",
       "8  [[1, 8, 414, 2, 858, 9, 7, 52, 25, 26, 130, 39...  \n",
       "9  [[4, 72, 699, 2, 64, 3, 1, 12, 28, 6, 553, 4, ...  "
      ]
     },
     "execution_count": 12,
     "metadata": {},
     "output_type": "execute_result"
    }
   ],
   "source": [
    "df"
   ]
  },
  {
   "cell_type": "markdown",
   "id": "731975f4",
   "metadata": {},
   "source": [
    "### Проверка распределения"
   ]
  },
  {
   "cell_type": "markdown",
   "id": "513fee83",
   "metadata": {},
   "source": [
    "Теперь, что бы убедится, что все коныертировалось верно, проверю матрицу"
   ]
  },
  {
   "cell_type": "code",
   "execution_count": 13,
   "id": "9c6f0397",
   "metadata": {},
   "outputs": [
    {
     "data": {
      "text/plain": [
       "True"
      ]
     },
     "execution_count": 13,
     "metadata": {},
     "output_type": "execute_result"
    }
   ],
   "source": [
    "'язв' in tokenizer.sequences_to_texts(df['sequences_description'][9])[0].split(' ')"
   ]
  },
  {
   "cell_type": "code",
   "execution_count": 14,
   "id": "7805d87e",
   "metadata": {},
   "outputs": [
    {
     "name": "stdout",
     "output_type": "stream",
     "text": [
      "(10, 800)\n"
     ]
    }
   ],
   "source": [
    "maxlen = 800\n",
    "#Формируем матрицу индексов по принципу Bag of Words\n",
    "xAll =  [x[0] for x in df['sequences_description'].values]#Каждое слово из текста нашло свой индекс в векторе длиной maxWordsCount и отметилось в нем единичкой \n",
    "xAll = pad_sequences(xAll, maxlen=maxlen, padding='pre', truncating='pre') #Преобразуем входные векторы\n",
    "print(xAll.shape)  #Посмотрим на форму текстов"
   ]
  },
  {
   "cell_type": "code",
   "execution_count": 15,
   "id": "5ed38af9",
   "metadata": {},
   "outputs": [
    {
     "name": "stdout",
     "output_type": "stream",
     "text": [
      "(1510, 50)\n",
      "(1510, 10)\n"
     ]
    }
   ],
   "source": [
    "#Формируем обучающую выборку\n",
    "xTrain, yTrain = createSetsMultiClasses(xAll, xLen, step) #извлекаем обучающую выборку\n",
    "print(xTrain.shape)\n",
    "print(yTrain.shape)"
   ]
  },
  {
   "cell_type": "code",
   "execution_count": 26,
   "id": "1e88504d",
   "metadata": {},
   "outputs": [
    {
     "data": {
      "text/plain": [
       "800"
      ]
     },
     "execution_count": 26,
     "metadata": {},
     "output_type": "execute_result"
    }
   ],
   "source": [
    "maxlen"
   ]
  },
  {
   "cell_type": "markdown",
   "id": "9955d7d6",
   "metadata": {},
   "source": [
    "### Создание сети"
   ]
  },
  {
   "cell_type": "markdown",
   "id": "3df1b9c0",
   "metadata": {},
   "source": [
    "Dense - Стандартная сеть\n",
    "LSTM - Рекурентная\n",
    "Conv1D - Сверточная сетка\n"
   ]
  },
  {
   "cell_type": "code",
   "execution_count": 35,
   "id": "1b9d686c",
   "metadata": {
    "scrolled": false
   },
   "outputs": [],
   "source": [
    "from tensorflow.keras import Input\n",
    "from tensorflow.keras.models import Model\n",
    "\n",
    "input_layer = Input(shape = (50, ))\n",
    "\n",
    "# Левая ветка\n",
    "left = Embedding(max_words_count, 16, input_length=xLen) (input_layer)\n",
    "left = SpatialDropout1D(0.4) (left)\n",
    "left = BatchNormalization() (left)\n",
    "\n",
    "left = LSTM(12, return_sequences=True) (left)\n",
    "left = Bidirectional(LSTM(6, return_sequences=True)) (left)\n",
    "\n",
    "left = Conv1D(12, 4, activation='relu') (left)\n",
    "left = MaxPooling1D(2) (left)\n",
    "left = BatchNormalization() (left)\n",
    "left = Conv1D(6, 4, activation='relu') (left)\n",
    "left = MaxPooling1D(2) (left)\n",
    "left = BatchNormalization() (left)\n",
    "left = Dropout(0.2) (left)\n",
    "\n",
    "left = GlobalMaxPooling1D() (left)\n",
    "left = Dense(100, activation='relu') (left)\n",
    "\n",
    "\n",
    "\n",
    "# Правая ветка\n",
    "right = Embedding(max_words_count, 16, input_length=xLen) (input_layer)\n",
    "right = SpatialDropout1D(0.4) (right)\n",
    "right = BatchNormalization() (right)\n",
    "\n",
    "right = Conv1D(6, 4, activation='relu') (right)\n",
    "right = MaxPooling1D(2) (right)\n",
    "right = BatchNormalization() (right)\n",
    "right = Dropout(0.2) (right)\n",
    "\n",
    "right = LSTM(12, return_sequences=True) (right)\n",
    "right = Dense(100, activation='relu') (right)\n",
    "right = Flatten() (right)\n",
    "\n",
    "# Объединяем скрытые слои в один\n",
    "merged = concatenate([left, right])\n",
    "output = Flatten() (merged)\n",
    "output = Dense(yTrain.shape[1], activation='softmax')(merged)\n",
    "\n",
    "# Создание модели\n",
    "model = Model(inputs=input_layer, outputs=output)"
   ]
  },
  {
   "cell_type": "code",
   "execution_count": 36,
   "id": "db695d90",
   "metadata": {},
   "outputs": [],
   "source": [
    "# Компиляция, составление модели с выбором алгоритма оптимизации, функции потерь и метрики точности\n",
    "model.compile(optimizer='rmsprop', \n",
    "              loss='categorical_crossentropy', \n",
    "              metrics=['accuracy'])"
   ]
  },
  {
   "cell_type": "code",
   "execution_count": 39,
   "id": "73965e5d",
   "metadata": {},
   "outputs": [
    {
     "name": "stdout",
     "output_type": "stream",
     "text": [
      "Epoch 1/25\n",
      "38/38 [==============================] - 2s 57ms/step - loss: 0.2504 - accuracy: 0.9238 - val_loss: 8.0117 - val_accuracy: 0.0000e+00\n",
      "Epoch 2/25\n",
      "38/38 [==============================] - 2s 48ms/step - loss: 0.2024 - accuracy: 0.9214 - val_loss: 10.1384 - val_accuracy: 0.0000e+00\n",
      "Epoch 3/25\n",
      "38/38 [==============================] - 2s 50ms/step - loss: 0.1615 - accuracy: 0.9346 - val_loss: 12.6632 - val_accuracy: 0.0000e+00\n",
      "Epoch 4/25\n",
      "38/38 [==============================] - 2s 51ms/step - loss: 0.1489 - accuracy: 0.9487 - val_loss: 13.8039 - val_accuracy: 0.0000e+00\n",
      "Epoch 5/25\n",
      "38/38 [==============================] - 2s 50ms/step - loss: 0.1367 - accuracy: 0.9429 - val_loss: 14.9377 - val_accuracy: 0.0000e+00\n",
      "Epoch 6/25\n",
      "38/38 [==============================] - 2s 54ms/step - loss: 0.1203 - accuracy: 0.9536 - val_loss: 15.2235 - val_accuracy: 0.0000e+00\n",
      "Epoch 7/25\n",
      "38/38 [==============================] - 2s 51ms/step - loss: 0.1283 - accuracy: 0.9437 - val_loss: 15.2572 - val_accuracy: 0.0000e+00\n",
      "Epoch 8/25\n",
      "38/38 [==============================] - 2s 53ms/step - loss: 0.1169 - accuracy: 0.9478 - val_loss: 14.7074 - val_accuracy: 0.0000e+00\n",
      "Epoch 9/25\n",
      "38/38 [==============================] - 2s 53ms/step - loss: 0.1258 - accuracy: 0.9404 - val_loss: 14.5730 - val_accuracy: 0.0000e+00\n",
      "Epoch 10/25\n",
      "38/38 [==============================] - 2s 51ms/step - loss: 0.1161 - accuracy: 0.9536 - val_loss: 13.8929 - val_accuracy: 0.0000e+00\n",
      "Epoch 11/25\n",
      "38/38 [==============================] - 2s 48ms/step - loss: 0.1161 - accuracy: 0.9520 - val_loss: 13.6721 - val_accuracy: 0.0000e+00\n",
      "Epoch 12/25\n",
      "38/38 [==============================] - 2s 49ms/step - loss: 0.1158 - accuracy: 0.9412 - val_loss: 13.9078 - val_accuracy: 0.0000e+00\n",
      "Epoch 13/25\n",
      "38/38 [==============================] - 2s 50ms/step - loss: 0.1163 - accuracy: 0.9512 - val_loss: 14.5321 - val_accuracy: 0.0000e+00\n",
      "Epoch 14/25\n",
      "38/38 [==============================] - 2s 48ms/step - loss: 0.1204 - accuracy: 0.9487 - val_loss: 14.2565 - val_accuracy: 0.0000e+00\n",
      "Epoch 15/25\n",
      "38/38 [==============================] - 2s 46ms/step - loss: 0.1280 - accuracy: 0.9429 - val_loss: 14.7202 - val_accuracy: 0.0000e+00\n",
      "Epoch 16/25\n",
      "38/38 [==============================] - 2s 49ms/step - loss: 0.1069 - accuracy: 0.9512 - val_loss: 14.4681 - val_accuracy: 0.0000e+00\n",
      "Epoch 17/25\n",
      "38/38 [==============================] - 2s 48ms/step - loss: 0.1045 - accuracy: 0.9536 - val_loss: 16.3556 - val_accuracy: 0.0000e+00\n",
      "Epoch 18/25\n",
      "38/38 [==============================] - 2s 49ms/step - loss: 0.1166 - accuracy: 0.9470 - val_loss: 18.0069 - val_accuracy: 0.0000e+00\n",
      "Epoch 19/25\n",
      "38/38 [==============================] - 2s 54ms/step - loss: 0.1187 - accuracy: 0.9445 - val_loss: 17.2010 - val_accuracy: 0.0000e+00\n",
      "Epoch 20/25\n",
      "38/38 [==============================] - 2s 45ms/step - loss: 0.1180 - accuracy: 0.9454 - val_loss: 17.3828 - val_accuracy: 0.0000e+00\n",
      "Epoch 21/25\n",
      "38/38 [==============================] - 2s 53ms/step - loss: 0.1023 - accuracy: 0.9495 - val_loss: 18.3229 - val_accuracy: 0.0000e+00\n",
      "Epoch 22/25\n",
      "38/38 [==============================] - 2s 49ms/step - loss: 0.1076 - accuracy: 0.9495 - val_loss: 18.5695 - val_accuracy: 0.0000e+00\n",
      "Epoch 23/25\n",
      "38/38 [==============================] - 2s 51ms/step - loss: 0.1045 - accuracy: 0.9536 - val_loss: 18.2981 - val_accuracy: 0.0000e+00\n",
      "Epoch 24/25\n",
      "38/38 [==============================] - 2s 48ms/step - loss: 0.1288 - accuracy: 0.9421 - val_loss: 17.9072 - val_accuracy: 0.0000e+00\n",
      "Epoch 25/25\n",
      "38/38 [==============================] - 2s 44ms/step - loss: 0.1058 - accuracy: 0.9528 - val_loss: 18.8889 - val_accuracy: 0.0000e+00\n"
     ]
    }
   ],
   "source": [
    "# Обучаем сеть с указанием тренировочной выборки, количества эпох, размера минибатча для подачи сети, и тестовой выборки\n",
    "history = model.fit(xTrain, \n",
    "                    yTrain, \n",
    "                    epochs=25,\n",
    "                    batch_size=32,\n",
    "                    validation_split = 0.2)"
   ]
  },
  {
   "cell_type": "code",
   "execution_count": 40,
   "id": "dbb6a9b5",
   "metadata": {},
   "outputs": [
    {
     "data": {
      "image/png": "[encoded data removed]",
      "text/plain": [
       "<Figure size 640x480 with 1 Axes>"
      ]
     },
     "metadata": {},
     "output_type": "display_data"
    }
   ],
   "source": [
    "# Строим график для отображения динамики обучения и точности предсказания сети\n",
    "plt.plot(history.history['accuracy'], \n",
    "         label='Доля верных ответов на обучающем наборе')\n",
    "plt.plot(history.history['val_accuracy'], \n",
    "         label='Доля верных ответов на проверочном наборе')\n",
    "plt.xlabel('Эпоха обучения')\n",
    "plt.ylabel('Доля верных ответов')\n",
    "plt.legend()\n",
    "plt.show()"
   ]
  }
 ],
 "metadata": {
  "kernelspec": {
   "display_name": "Python 3 (ipykernel)",
   "language": "python",
   "name": "python3"
  },
  "language_info": {
   "codemirror_mode": {
    "name": "ipython",
    "version": 3
   },
   "file_extension": ".py",
   "mimetype": "text/x-python",
   "name": "python",
   "nbconvert_exporter": "python",
   "pygments_lexer": "ipython3",
   "version": "3.9.17"
  }
 },
 "nbformat": 4,
 "nbformat_minor": 5
}
